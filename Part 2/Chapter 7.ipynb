{
 "cells": [
  {
   "cell_type": "markdown",
   "metadata": {},
   "source": [
    "# Chapter 7\n",
    "# Decision Trees\n",
    "## 7.1 Predicting the Price of a Used Car\n",
    "### 7.1.2 How to Build a Decision Tree\n",
    "\n",
    "To understand how decision trees are built, let's l the dataset behind the tree in figure 7-5 is the `12-cars.csv` dataset:"
   ]
  },
  {
   "cell_type": "code",
   "execution_count": 1,
   "metadata": {},
   "outputs": [
    {
     "data": {
      "text/html": [
       "<div>\n",
       "<style scoped>\n",
       "    .dataframe tbody tr th:only-of-type {\n",
       "        vertical-align: middle;\n",
       "    }\n",
       "\n",
       "    .dataframe tbody tr th {\n",
       "        vertical-align: top;\n",
       "    }\n",
       "\n",
       "    .dataframe thead th {\n",
       "        text-align: right;\n",
       "    }\n",
       "</style>\n",
       "<table border=\"1\" class=\"dataframe\">\n",
       "  <thead>\n",
       "    <tr style=\"text-align: right;\">\n",
       "      <th></th>\n",
       "      <th>Year</th>\n",
       "      <th>Engine</th>\n",
       "      <th>Power</th>\n",
       "      <th>Price</th>\n",
       "    </tr>\n",
       "  </thead>\n",
       "  <tbody>\n",
       "    <tr>\n",
       "      <th>0</th>\n",
       "      <td>2003</td>\n",
       "      <td>1700</td>\n",
       "      <td>80</td>\n",
       "      <td>185</td>\n",
       "    </tr>\n",
       "    <tr>\n",
       "      <th>1</th>\n",
       "      <td>2005</td>\n",
       "      <td>1500</td>\n",
       "      <td>73</td>\n",
       "      <td>160</td>\n",
       "    </tr>\n",
       "    <tr>\n",
       "      <th>2</th>\n",
       "      <td>2008</td>\n",
       "      <td>1800</td>\n",
       "      <td>84</td>\n",
       "      <td>195</td>\n",
       "    </tr>\n",
       "    <tr>\n",
       "      <th>3</th>\n",
       "      <td>2009</td>\n",
       "      <td>1200</td>\n",
       "      <td>61</td>\n",
       "      <td>252</td>\n",
       "    </tr>\n",
       "    <tr>\n",
       "      <th>4</th>\n",
       "      <td>2010</td>\n",
       "      <td>1100</td>\n",
       "      <td>87</td>\n",
       "      <td>237</td>\n",
       "    </tr>\n",
       "    <tr>\n",
       "      <th>5</th>\n",
       "      <td>2016</td>\n",
       "      <td>1500</td>\n",
       "      <td>83</td>\n",
       "      <td>261</td>\n",
       "    </tr>\n",
       "    <tr>\n",
       "      <th>6</th>\n",
       "      <td>2012</td>\n",
       "      <td>1800</td>\n",
       "      <td>63</td>\n",
       "      <td>312</td>\n",
       "    </tr>\n",
       "    <tr>\n",
       "      <th>7</th>\n",
       "      <td>2011</td>\n",
       "      <td>1750</td>\n",
       "      <td>67</td>\n",
       "      <td>280</td>\n",
       "    </tr>\n",
       "    <tr>\n",
       "      <th>8</th>\n",
       "      <td>2010</td>\n",
       "      <td>1900</td>\n",
       "      <td>75</td>\n",
       "      <td>308</td>\n",
       "    </tr>\n",
       "    <tr>\n",
       "      <th>9</th>\n",
       "      <td>2009</td>\n",
       "      <td>1800</td>\n",
       "      <td>83</td>\n",
       "      <td>410</td>\n",
       "    </tr>\n",
       "    <tr>\n",
       "      <th>10</th>\n",
       "      <td>2015</td>\n",
       "      <td>1650</td>\n",
       "      <td>89</td>\n",
       "      <td>446</td>\n",
       "    </tr>\n",
       "    <tr>\n",
       "      <th>11</th>\n",
       "      <td>2014</td>\n",
       "      <td>1670</td>\n",
       "      <td>87</td>\n",
       "      <td>500</td>\n",
       "    </tr>\n",
       "  </tbody>\n",
       "</table>\n",
       "</div>"
      ],
      "text/plain": [
       "    Year  Engine  Power  Price\n",
       "0   2003    1700     80    185\n",
       "1   2005    1500     73    160\n",
       "2   2008    1800     84    195\n",
       "3   2009    1200     61    252\n",
       "4   2010    1100     87    237\n",
       "5   2016    1500     83    261\n",
       "6   2012    1800     63    312\n",
       "7   2011    1750     67    280\n",
       "8   2010    1900     75    308\n",
       "9   2009    1800     83    410\n",
       "10  2015    1650     89    446\n",
       "11  2014    1670     87    500"
      ]
     },
     "execution_count": 1,
     "metadata": {},
     "output_type": "execute_result"
    }
   ],
   "source": [
    "import pandas as pd\n",
    "%matplotlib inline\n",
    "\n",
    "cars_12 = pd.read_csv('../datasets/12-cars.csv', index_col=0)\n",
    "cars_12"
   ]
  },
  {
   "cell_type": "markdown",
   "metadata": {},
   "source": [
    "### 7.1.3 Coding a Primative Decision Tree\n",
    "\n",
    "Decisions trees are built by recursively splitting regions of sapce into two sub-regions in order to minimize the mean squared error (MSE) across the training data. In each split, we choose the best pair of (feature, value) that would yeild the minimal MSE. We call this pair a **_pivot_**. To write a simple code that can apply this procedure and build us a decision tree on the 12-cars dataset, we first need to define the `Node` class which be the data structure holding the tree. "
   ]
  },
  {
   "cell_type": "code",
   "execution_count": 2,
   "metadata": {},
   "outputs": [],
   "source": [
    "class Node:\n",
    "    \n",
    "    def __init__(self, is_leaf=False, pivot=None):\n",
    "        self.is_leaf = is_leaf\n",
    "        self.pivot = pivot\n",
    "        \n",
    "    def attach_children(self, left, right):\n",
    "        self.left_child = left\n",
    "        self.right_child = right\n",
    "        \n",
    "    def attach_leaf_value(self, mean_value):\n",
    "        self.leaf_value = mean_value\n",
    "        \n",
    "    def traverse(self, x):\n",
    "        if not self.is_leaf:\n",
    "            feature_indx, value = self.pivot\n",
    "            if x[feature_indx] <= value:\n",
    "                return self.left_child.traverse(x)\n",
    "            else:\n",
    "                return self.right_child.traverse(x)\n",
    "        else:\n",
    "            return self.leaf_value"
   ]
  },
  {
   "cell_type": "markdown",
   "metadata": {},
   "source": [
    "The `Node` class represents a node in the decision tree, with left and right child nodes attached if the node is not a leaf node. With these properties, the root node object would represent the whole decision tree as it has links to all the child nodes underneath it. The `traverse` method allow us to travel down the tree with a given data point: on each decision node, comparison against the pivot is made to determine to which child shall we traverse next, until we reach a leaf node where we'll return the attached mean value of the labels in that leaf node region.\n",
    "\n",
    "Next, we need to use the `Node` class in order to build the whole tree. We do so by defining a class called `PrimitiveDecisionTreeRegressor` that will hold our tree-building code. The two main method in that class are the `get_best_pivot` and the `split` methods. `get_best_pivot` enumerates all the possible values for each feature calculates the splitting MSE for each splitting option, the option with the smallest MSE is returned. The `split` method uses the `get_best_pivot` method to recursively split regions into two sub-regions until we hit the stopping criteria. "
   ]
  },
  {
   "cell_type": "code",
   "execution_count": 3,
   "metadata": {},
   "outputs": [],
   "source": [
    "import numpy as np\n",
    "\n",
    "def mse(y_true, y_pred):\n",
    "    # Calculating the mean square error (MSE)\n",
    "    return np.mean((y_true - y_pred) ** 2)\n",
    "\n",
    "class PrimitiveDecisionTreeRegressor:\n",
    "    \n",
    "    def __init__(self, stop_at=3):\n",
    "        self.stop_at = stop_at\n",
    "        self.tree = None\n",
    "        \n",
    "    def get_best_pivot(self, region_X, region_y):\n",
    "        \n",
    "        samples_count, features_count = region_X.shape\n",
    "        \n",
    "        # record each feature index with its possible values in a dictionary\n",
    "        features_split_points = {}\n",
    "        for i in range(features_count):\n",
    "            features_split_points[i] = np.sort(region_X[:, i])\n",
    "        \n",
    "        # minimal mse is set to infinity at start\n",
    "        minimal_mse = np.inf \n",
    "        best_pivot = (None, None)\n",
    "        \n",
    "        # we loop over all pairs of (feature_index, value)\n",
    "        for i in range(features_count):\n",
    "            for value in features_split_points[i]:\n",
    "                \n",
    "                # we make use of boolean masks to get the samples in each subregion\n",
    "                left_region_mask = region_X[:, i] <= value\n",
    "                right_region_mask = ~left_region_mask\n",
    "                \n",
    "                # we check the number of samples in each subregion\n",
    "                # if it's lower than the stopping critreia, we omit that split\n",
    "                left_region_X = region_X[left_region_mask]\n",
    "                right_region_X = region_X[right_region_mask] \n",
    "                \n",
    "                if left_region_X.shape[0] < self.stop_at or \\\n",
    "                    right_region_X.shape[0] < self.stop_at:\n",
    "                    continue\n",
    "                \n",
    "                # we get the y values in each region and calculate the split MSE\n",
    "                left_region_y = region_y[left_region_mask]\n",
    "                right_region_y = region_y[right_region_mask]\n",
    "                \n",
    "                left_mse = mse(left_region_y, np.mean(left_region_y))\n",
    "                right_mse = mse(right_region_y, np.mean(right_region_y))\n",
    "                total_mse = left_mse + right_mse\n",
    "                \n",
    "                # if the split MSE is lower than the prvious best\n",
    "                # we set the current split as the best one\n",
    "                if total_mse < minimal_mse:\n",
    "                    minimal_mse = total_mse\n",
    "                    best_pivot = (i, value)\n",
    "                    \n",
    "        return best_pivot\n",
    "        \n",
    "        \n",
    "    def split(self, region_X, region_y, level=1):\n",
    "        \n",
    "        samples_count, _ = region_X.shape\n",
    "        \n",
    "        # if the samples count in the region to split meets\n",
    "        # the stopping criteria, stop recursion and return a leaf node\n",
    "        if samples_count <= self.stop_at:\n",
    "            leaf_node = Node(is_leaf=True)\n",
    "            leaf_node.attach_leaf_value(np.mean(region_y))\n",
    "            return leaf_node\n",
    "    \n",
    "        # get the best pivot at this step and craete a decision node            \n",
    "        split_feature, split_value = self.get_best_pivot(region_X, region_y)\n",
    "        current_node = Node(pivot=(split_feature, split_value))\n",
    "        \n",
    "        \n",
    "        print(\"{}Split on feature {} at {}\".format(\n",
    "            ''.join(['\\t'] * level), \n",
    "            split_feature, \n",
    "            split_value)\n",
    "        )\n",
    "        \n",
    "        left_region_mask = region_X[:, split_feature] <= split_value\n",
    "        right_region_mask = ~left_region_mask\n",
    "        \n",
    "        # recursivly split the left subregion and get its root node\n",
    "        print(\"{}Left Region:\".format(''.join(['\\t'] * level)))\n",
    "        left_region_X = region_X[left_region_mask]\n",
    "        left_region_y = region_y[left_region_mask]\n",
    "        left_child = self.split(left_region_X, left_region_y, level + 1)\n",
    "        \n",
    "        # recursivly split the right subregion and get its root node\n",
    "        print(\"{}Right Region:\".format(''.join(['\\t'] * level)))\n",
    "        right_region_X = region_X[right_region_mask]\n",
    "        right_region_y = region_y[right_region_mask]\n",
    "        right_child = self.split(right_region_X, right_region_y, level + 1)\n",
    "        \n",
    "        # attach the left and right subregions to the decision node\n",
    "        current_node.attach_children(left_child, right_child)\n",
    "        \n",
    "        return current_node\n",
    "    \n",
    "    def fit(self, X, y):\n",
    "        self.tree = self.split(X, y)\n",
    "        \n",
    "    def predict(self, x):\n",
    "        return self.tree.traverse(x)"
   ]
  },
  {
   "cell_type": "markdown",
   "metadata": {},
   "source": [
    "With this implementation, we're ready to train a decision tree on the 12-cars data we have. We made the implementation following the `scikit-learn` convention of fit/predict for consistency, we also added print statments that would layout how the tree is built to see if the splits matches the one we assumed true while we're visually building the tree in figure 7-8. Fitting the model would show us that the spilts are indeed correct."
   ]
  },
  {
   "cell_type": "code",
   "execution_count": 4,
   "metadata": {},
   "outputs": [
    {
     "name": "stdout",
     "output_type": "stream",
     "text": [
      "\tSplit on feature 0 at 2008\n",
      "\tLeft Region:\n",
      "\tRight Region:\n",
      "\t\tSplit on feature 1 at 1500\n",
      "\t\tLeft Region:\n",
      "\t\tRight Region:\n",
      "\t\t\tSplit on feature 2 at 75\n",
      "\t\t\tLeft Region:\n",
      "\t\t\tRight Region:\n"
     ]
    }
   ],
   "source": [
    "X_train = cars_12.loc[:, \"Year\":\"Power\"].to_numpy()\n",
    "y_train = cars_12.loc[:, \"Price\"].to_numpy()\n",
    "\n",
    "primitive_dt = PrimitiveDecisionTreeRegressor()\n",
    "primitive_dt.fit(X_train, y_train)"
   ]
  },
  {
   "cell_type": "markdown",
   "metadata": {},
   "source": [
    "And if we ran our testing example through the `predict` example, we would get the prediction of 300K as we stated before."
   ]
  },
  {
   "cell_type": "code",
   "execution_count": 5,
   "metadata": {},
   "outputs": [
    {
     "data": {
      "text/plain": [
       "300.0"
      ]
     },
     "execution_count": 5,
     "metadata": {},
     "output_type": "execute_result"
    }
   ],
   "source": [
    "x_test = np.array([2012, 1600, 73])\n",
    "\n",
    "primitive_dt.predict(x_test)"
   ]
  },
  {
   "cell_type": "markdown",
   "metadata": {},
   "source": [
    "## 7.2 Building Decision Trees with scikit-learn\n",
    "We start building a solution to the used cars price prediction problem by taking a look at the dataset we're going to work on:"
   ]
  },
  {
   "cell_type": "code",
   "execution_count": 6,
   "metadata": {
    "scrolled": false
   },
   "outputs": [
    {
     "data": {
      "text/html": [
       "<div>\n",
       "<style scoped>\n",
       "    .dataframe tbody tr th:only-of-type {\n",
       "        vertical-align: middle;\n",
       "    }\n",
       "\n",
       "    .dataframe tbody tr th {\n",
       "        vertical-align: top;\n",
       "    }\n",
       "\n",
       "    .dataframe thead th {\n",
       "        text-align: right;\n",
       "    }\n",
       "</style>\n",
       "<table border=\"1\" class=\"dataframe\">\n",
       "  <thead>\n",
       "    <tr style=\"text-align: right;\">\n",
       "      <th></th>\n",
       "      <th>Unnamed: 0</th>\n",
       "      <th>Name</th>\n",
       "      <th>Location</th>\n",
       "      <th>Year</th>\n",
       "      <th>Kilometers_Driven</th>\n",
       "      <th>Fuel_Type</th>\n",
       "      <th>Transmission</th>\n",
       "      <th>Owner_Type</th>\n",
       "      <th>Mileage</th>\n",
       "      <th>Engine</th>\n",
       "      <th>Power</th>\n",
       "      <th>Seats</th>\n",
       "      <th>New_Price</th>\n",
       "      <th>Price</th>\n",
       "    </tr>\n",
       "  </thead>\n",
       "  <tbody>\n",
       "    <tr>\n",
       "      <th>2868</th>\n",
       "      <td>2868</td>\n",
       "      <td>Maruti Swift Dzire VDI</td>\n",
       "      <td>Hyderabad</td>\n",
       "      <td>2013</td>\n",
       "      <td>69000</td>\n",
       "      <td>Diesel</td>\n",
       "      <td>Manual</td>\n",
       "      <td>First</td>\n",
       "      <td>23.4 kmpl</td>\n",
       "      <td>1248 CC</td>\n",
       "      <td>74 bhp</td>\n",
       "      <td>5.0</td>\n",
       "      <td>NaN</td>\n",
       "      <td>5.75</td>\n",
       "    </tr>\n",
       "    <tr>\n",
       "      <th>5924</th>\n",
       "      <td>5924</td>\n",
       "      <td>Mahindra Scorpio 1.99 S4 Plus</td>\n",
       "      <td>Kochi</td>\n",
       "      <td>2017</td>\n",
       "      <td>26741</td>\n",
       "      <td>Diesel</td>\n",
       "      <td>Manual</td>\n",
       "      <td>First</td>\n",
       "      <td>15.4 kmpl</td>\n",
       "      <td>1997 CC</td>\n",
       "      <td>120 bhp</td>\n",
       "      <td>7.0</td>\n",
       "      <td>NaN</td>\n",
       "      <td>10.08</td>\n",
       "    </tr>\n",
       "    <tr>\n",
       "      <th>3764</th>\n",
       "      <td>3764</td>\n",
       "      <td>Mahindra XUV500 W8 2WD</td>\n",
       "      <td>Delhi</td>\n",
       "      <td>2014</td>\n",
       "      <td>86000</td>\n",
       "      <td>Diesel</td>\n",
       "      <td>Manual</td>\n",
       "      <td>First</td>\n",
       "      <td>15.1 kmpl</td>\n",
       "      <td>2179 CC</td>\n",
       "      <td>140 bhp</td>\n",
       "      <td>7.0</td>\n",
       "      <td>NaN</td>\n",
       "      <td>7.85</td>\n",
       "    </tr>\n",
       "    <tr>\n",
       "      <th>4144</th>\n",
       "      <td>4144</td>\n",
       "      <td>Tata Indigo CS eVX</td>\n",
       "      <td>Pune</td>\n",
       "      <td>2016</td>\n",
       "      <td>52000</td>\n",
       "      <td>Diesel</td>\n",
       "      <td>Manual</td>\n",
       "      <td>Second</td>\n",
       "      <td>25.0 kmpl</td>\n",
       "      <td>1396 CC</td>\n",
       "      <td>69.01 bhp</td>\n",
       "      <td>5.0</td>\n",
       "      <td>NaN</td>\n",
       "      <td>2.40</td>\n",
       "    </tr>\n",
       "    <tr>\n",
       "      <th>2780</th>\n",
       "      <td>2780</td>\n",
       "      <td>Hyundai Santro GLS II - Euro II</td>\n",
       "      <td>Pune</td>\n",
       "      <td>2009</td>\n",
       "      <td>100000</td>\n",
       "      <td>Petrol</td>\n",
       "      <td>Manual</td>\n",
       "      <td>First</td>\n",
       "      <td>0.0 kmpl</td>\n",
       "      <td>NaN</td>\n",
       "      <td>NaN</td>\n",
       "      <td>NaN</td>\n",
       "      <td>NaN</td>\n",
       "      <td>1.60</td>\n",
       "    </tr>\n",
       "    <tr>\n",
       "      <th>1514</th>\n",
       "      <td>1514</td>\n",
       "      <td>Honda Accord 2.4 AT</td>\n",
       "      <td>Mumbai</td>\n",
       "      <td>2008</td>\n",
       "      <td>125000</td>\n",
       "      <td>Petrol</td>\n",
       "      <td>Automatic</td>\n",
       "      <td>Third</td>\n",
       "      <td>11.7 kmpl</td>\n",
       "      <td>2354 CC</td>\n",
       "      <td>177.6 bhp</td>\n",
       "      <td>5.0</td>\n",
       "      <td>NaN</td>\n",
       "      <td>2.60</td>\n",
       "    </tr>\n",
       "    <tr>\n",
       "      <th>1199</th>\n",
       "      <td>1199</td>\n",
       "      <td>Nissan Terrano XL</td>\n",
       "      <td>Mumbai</td>\n",
       "      <td>2014</td>\n",
       "      <td>28238</td>\n",
       "      <td>Petrol</td>\n",
       "      <td>Manual</td>\n",
       "      <td>First</td>\n",
       "      <td>13.24 kmpl</td>\n",
       "      <td>1598 CC</td>\n",
       "      <td>102.5 bhp</td>\n",
       "      <td>5.0</td>\n",
       "      <td>NaN</td>\n",
       "      <td>5.55</td>\n",
       "    </tr>\n",
       "    <tr>\n",
       "      <th>84</th>\n",
       "      <td>84</td>\n",
       "      <td>Maruti Ritz VDi</td>\n",
       "      <td>Jaipur</td>\n",
       "      <td>2013</td>\n",
       "      <td>99638</td>\n",
       "      <td>Diesel</td>\n",
       "      <td>Manual</td>\n",
       "      <td>First</td>\n",
       "      <td>23.2 kmpl</td>\n",
       "      <td>1248 CC</td>\n",
       "      <td>73.94 bhp</td>\n",
       "      <td>5.0</td>\n",
       "      <td>NaN</td>\n",
       "      <td>3.11</td>\n",
       "    </tr>\n",
       "    <tr>\n",
       "      <th>1219</th>\n",
       "      <td>1219</td>\n",
       "      <td>Honda CR-V 2.4L 4WD AT AVN</td>\n",
       "      <td>Kolkata</td>\n",
       "      <td>2013</td>\n",
       "      <td>46125</td>\n",
       "      <td>Petrol</td>\n",
       "      <td>Automatic</td>\n",
       "      <td>Second</td>\n",
       "      <td>12.0 kmpl</td>\n",
       "      <td>2354 CC</td>\n",
       "      <td>187.4 bhp</td>\n",
       "      <td>5.0</td>\n",
       "      <td>NaN</td>\n",
       "      <td>12.50</td>\n",
       "    </tr>\n",
       "    <tr>\n",
       "      <th>1554</th>\n",
       "      <td>1554</td>\n",
       "      <td>Maruti Ritz VXI</td>\n",
       "      <td>Hyderabad</td>\n",
       "      <td>2012</td>\n",
       "      <td>68776</td>\n",
       "      <td>Petrol</td>\n",
       "      <td>Manual</td>\n",
       "      <td>First</td>\n",
       "      <td>21.1 kmpl</td>\n",
       "      <td>1197 CC</td>\n",
       "      <td>85.80 bhp</td>\n",
       "      <td>5.0</td>\n",
       "      <td>NaN</td>\n",
       "      <td>3.90</td>\n",
       "    </tr>\n",
       "  </tbody>\n",
       "</table>\n",
       "</div>"
      ],
      "text/plain": [
       "      Unnamed: 0                             Name   Location  Year  \\\n",
       "2868        2868           Maruti Swift Dzire VDI  Hyderabad  2013   \n",
       "5924        5924    Mahindra Scorpio 1.99 S4 Plus      Kochi  2017   \n",
       "3764        3764           Mahindra XUV500 W8 2WD      Delhi  2014   \n",
       "4144        4144               Tata Indigo CS eVX       Pune  2016   \n",
       "2780        2780  Hyundai Santro GLS II - Euro II       Pune  2009   \n",
       "1514        1514              Honda Accord 2.4 AT     Mumbai  2008   \n",
       "1199        1199                Nissan Terrano XL     Mumbai  2014   \n",
       "84            84                  Maruti Ritz VDi     Jaipur  2013   \n",
       "1219        1219       Honda CR-V 2.4L 4WD AT AVN    Kolkata  2013   \n",
       "1554        1554                  Maruti Ritz VXI  Hyderabad  2012   \n",
       "\n",
       "      Kilometers_Driven Fuel_Type Transmission Owner_Type     Mileage  \\\n",
       "2868              69000    Diesel       Manual      First   23.4 kmpl   \n",
       "5924              26741    Diesel       Manual      First   15.4 kmpl   \n",
       "3764              86000    Diesel       Manual      First   15.1 kmpl   \n",
       "4144              52000    Diesel       Manual     Second   25.0 kmpl   \n",
       "2780             100000    Petrol       Manual      First    0.0 kmpl   \n",
       "1514             125000    Petrol    Automatic      Third   11.7 kmpl   \n",
       "1199              28238    Petrol       Manual      First  13.24 kmpl   \n",
       "84                99638    Diesel       Manual      First   23.2 kmpl   \n",
       "1219              46125    Petrol    Automatic     Second   12.0 kmpl   \n",
       "1554              68776    Petrol       Manual      First   21.1 kmpl   \n",
       "\n",
       "       Engine      Power  Seats New_Price  Price  \n",
       "2868  1248 CC     74 bhp    5.0       NaN   5.75  \n",
       "5924  1997 CC    120 bhp    7.0       NaN  10.08  \n",
       "3764  2179 CC    140 bhp    7.0       NaN   7.85  \n",
       "4144  1396 CC  69.01 bhp    5.0       NaN   2.40  \n",
       "2780      NaN        NaN    NaN       NaN   1.60  \n",
       "1514  2354 CC  177.6 bhp    5.0       NaN   2.60  \n",
       "1199  1598 CC  102.5 bhp    5.0       NaN   5.55  \n",
       "84    1248 CC  73.94 bhp    5.0       NaN   3.11  \n",
       "1219  2354 CC  187.4 bhp    5.0       NaN  12.50  \n",
       "1554  1197 CC  85.80 bhp    5.0       NaN   3.90  "
      ]
     },
     "execution_count": 6,
     "metadata": {},
     "output_type": "execute_result"
    }
   ],
   "source": [
    "import pandas as pd\n",
    "\n",
    "data = pd.read_csv(\"../datasets/used-cars.csv\")\n",
    "data.sample(10, random_state=42)"
   ]
  },
  {
   "cell_type": "markdown",
   "metadata": {},
   "source": [
    "Our data sample shows two problems that needs to be fixed before we can move forward:\n",
    "\n",
    "1. The Mileage, Engine and Power data has their units attached to them, which makes `pandas` treat them a strings and hence categorical data. This data needs to be treated as numerical data.\n",
    "2. There is a lot of `NaN`s and `0`s in the numeric columns, which indicates missing data that needs to filled\n",
    "\n",
    "### 7.2.1 Preparing the Data\n",
    "\n",
    "We start first by stripping the units from the numeric values and casting the remaining string into floats. This can be simply done using the `apply` method which applies a given function on all the elements of a `DataFrame`/`Series` and returns the result in a new `DataFrame`/`Series`."
   ]
  },
  {
   "cell_type": "code",
   "execution_count": 7,
   "metadata": {},
   "outputs": [],
   "source": [
    "import numpy as np\n",
    "\n",
    "clean_data = data.copy(deep=True)\n",
    "\n",
    "def strip_units(str_value):\n",
    "    \n",
    "    float_value = np.nan\n",
    "    \n",
    "    if str_value is not np.nan:\n",
    "        number_str, units = str_value.split()\n",
    "        try:\n",
    "            float_value = float(number_str)\n",
    "        except Exception:\n",
    "            pass\n",
    "    \n",
    "    return float_value\n",
    "\n",
    "def brand_name(s):\n",
    "    tockenized_name = s.split()\n",
    "    brand_name = tockenized_name[0]\n",
    "    \n",
    "    return brand_name\n",
    "\n",
    "\n",
    "clean_data.loc[:, 'Name'] = data.loc[:, 'Name'].apply(brand_name)\n",
    "clean_data.loc[:, 'Mileage'] = data.loc[:, 'Mileage'].apply(strip_units)\n",
    "clean_data.loc[:, 'Engine'] = data.loc[:, 'Engine'].apply(strip_units)\n",
    "clean_data.loc[:, 'Power'] = data.loc[:, 'Power'].apply(strip_units)"
   ]
  },
  {
   "cell_type": "markdown",
   "metadata": {},
   "source": [
    "A simple call to `clean_data.sample(10, random_sample=42)` will reveal that the units were stripped from the numeric values."
   ]
  },
  {
   "cell_type": "code",
   "execution_count": 8,
   "metadata": {},
   "outputs": [
    {
     "data": {
      "text/html": [
       "<div>\n",
       "<style scoped>\n",
       "    .dataframe tbody tr th:only-of-type {\n",
       "        vertical-align: middle;\n",
       "    }\n",
       "\n",
       "    .dataframe tbody tr th {\n",
       "        vertical-align: top;\n",
       "    }\n",
       "\n",
       "    .dataframe thead th {\n",
       "        text-align: right;\n",
       "    }\n",
       "</style>\n",
       "<table border=\"1\" class=\"dataframe\">\n",
       "  <thead>\n",
       "    <tr style=\"text-align: right;\">\n",
       "      <th></th>\n",
       "      <th>Unnamed: 0</th>\n",
       "      <th>Name</th>\n",
       "      <th>Location</th>\n",
       "      <th>Year</th>\n",
       "      <th>Kilometers_Driven</th>\n",
       "      <th>Fuel_Type</th>\n",
       "      <th>Transmission</th>\n",
       "      <th>Owner_Type</th>\n",
       "      <th>Mileage</th>\n",
       "      <th>Engine</th>\n",
       "      <th>Power</th>\n",
       "      <th>Seats</th>\n",
       "      <th>New_Price</th>\n",
       "      <th>Price</th>\n",
       "    </tr>\n",
       "  </thead>\n",
       "  <tbody>\n",
       "    <tr>\n",
       "      <th>2868</th>\n",
       "      <td>2868</td>\n",
       "      <td>Maruti</td>\n",
       "      <td>Hyderabad</td>\n",
       "      <td>2013</td>\n",
       "      <td>69000</td>\n",
       "      <td>Diesel</td>\n",
       "      <td>Manual</td>\n",
       "      <td>First</td>\n",
       "      <td>23.40</td>\n",
       "      <td>1248.0</td>\n",
       "      <td>74.00</td>\n",
       "      <td>5.0</td>\n",
       "      <td>NaN</td>\n",
       "      <td>5.75</td>\n",
       "    </tr>\n",
       "    <tr>\n",
       "      <th>5924</th>\n",
       "      <td>5924</td>\n",
       "      <td>Mahindra</td>\n",
       "      <td>Kochi</td>\n",
       "      <td>2017</td>\n",
       "      <td>26741</td>\n",
       "      <td>Diesel</td>\n",
       "      <td>Manual</td>\n",
       "      <td>First</td>\n",
       "      <td>15.40</td>\n",
       "      <td>1997.0</td>\n",
       "      <td>120.00</td>\n",
       "      <td>7.0</td>\n",
       "      <td>NaN</td>\n",
       "      <td>10.08</td>\n",
       "    </tr>\n",
       "    <tr>\n",
       "      <th>3764</th>\n",
       "      <td>3764</td>\n",
       "      <td>Mahindra</td>\n",
       "      <td>Delhi</td>\n",
       "      <td>2014</td>\n",
       "      <td>86000</td>\n",
       "      <td>Diesel</td>\n",
       "      <td>Manual</td>\n",
       "      <td>First</td>\n",
       "      <td>15.10</td>\n",
       "      <td>2179.0</td>\n",
       "      <td>140.00</td>\n",
       "      <td>7.0</td>\n",
       "      <td>NaN</td>\n",
       "      <td>7.85</td>\n",
       "    </tr>\n",
       "    <tr>\n",
       "      <th>4144</th>\n",
       "      <td>4144</td>\n",
       "      <td>Tata</td>\n",
       "      <td>Pune</td>\n",
       "      <td>2016</td>\n",
       "      <td>52000</td>\n",
       "      <td>Diesel</td>\n",
       "      <td>Manual</td>\n",
       "      <td>Second</td>\n",
       "      <td>25.00</td>\n",
       "      <td>1396.0</td>\n",
       "      <td>69.01</td>\n",
       "      <td>5.0</td>\n",
       "      <td>NaN</td>\n",
       "      <td>2.40</td>\n",
       "    </tr>\n",
       "    <tr>\n",
       "      <th>2780</th>\n",
       "      <td>2780</td>\n",
       "      <td>Hyundai</td>\n",
       "      <td>Pune</td>\n",
       "      <td>2009</td>\n",
       "      <td>100000</td>\n",
       "      <td>Petrol</td>\n",
       "      <td>Manual</td>\n",
       "      <td>First</td>\n",
       "      <td>0.00</td>\n",
       "      <td>NaN</td>\n",
       "      <td>NaN</td>\n",
       "      <td>NaN</td>\n",
       "      <td>NaN</td>\n",
       "      <td>1.60</td>\n",
       "    </tr>\n",
       "    <tr>\n",
       "      <th>1514</th>\n",
       "      <td>1514</td>\n",
       "      <td>Honda</td>\n",
       "      <td>Mumbai</td>\n",
       "      <td>2008</td>\n",
       "      <td>125000</td>\n",
       "      <td>Petrol</td>\n",
       "      <td>Automatic</td>\n",
       "      <td>Third</td>\n",
       "      <td>11.70</td>\n",
       "      <td>2354.0</td>\n",
       "      <td>177.60</td>\n",
       "      <td>5.0</td>\n",
       "      <td>NaN</td>\n",
       "      <td>2.60</td>\n",
       "    </tr>\n",
       "    <tr>\n",
       "      <th>1199</th>\n",
       "      <td>1199</td>\n",
       "      <td>Nissan</td>\n",
       "      <td>Mumbai</td>\n",
       "      <td>2014</td>\n",
       "      <td>28238</td>\n",
       "      <td>Petrol</td>\n",
       "      <td>Manual</td>\n",
       "      <td>First</td>\n",
       "      <td>13.24</td>\n",
       "      <td>1598.0</td>\n",
       "      <td>102.50</td>\n",
       "      <td>5.0</td>\n",
       "      <td>NaN</td>\n",
       "      <td>5.55</td>\n",
       "    </tr>\n",
       "    <tr>\n",
       "      <th>84</th>\n",
       "      <td>84</td>\n",
       "      <td>Maruti</td>\n",
       "      <td>Jaipur</td>\n",
       "      <td>2013</td>\n",
       "      <td>99638</td>\n",
       "      <td>Diesel</td>\n",
       "      <td>Manual</td>\n",
       "      <td>First</td>\n",
       "      <td>23.20</td>\n",
       "      <td>1248.0</td>\n",
       "      <td>73.94</td>\n",
       "      <td>5.0</td>\n",
       "      <td>NaN</td>\n",
       "      <td>3.11</td>\n",
       "    </tr>\n",
       "    <tr>\n",
       "      <th>1219</th>\n",
       "      <td>1219</td>\n",
       "      <td>Honda</td>\n",
       "      <td>Kolkata</td>\n",
       "      <td>2013</td>\n",
       "      <td>46125</td>\n",
       "      <td>Petrol</td>\n",
       "      <td>Automatic</td>\n",
       "      <td>Second</td>\n",
       "      <td>12.00</td>\n",
       "      <td>2354.0</td>\n",
       "      <td>187.40</td>\n",
       "      <td>5.0</td>\n",
       "      <td>NaN</td>\n",
       "      <td>12.50</td>\n",
       "    </tr>\n",
       "    <tr>\n",
       "      <th>1554</th>\n",
       "      <td>1554</td>\n",
       "      <td>Maruti</td>\n",
       "      <td>Hyderabad</td>\n",
       "      <td>2012</td>\n",
       "      <td>68776</td>\n",
       "      <td>Petrol</td>\n",
       "      <td>Manual</td>\n",
       "      <td>First</td>\n",
       "      <td>21.10</td>\n",
       "      <td>1197.0</td>\n",
       "      <td>85.80</td>\n",
       "      <td>5.0</td>\n",
       "      <td>NaN</td>\n",
       "      <td>3.90</td>\n",
       "    </tr>\n",
       "  </tbody>\n",
       "</table>\n",
       "</div>"
      ],
      "text/plain": [
       "      Unnamed: 0      Name   Location  Year  Kilometers_Driven Fuel_Type  \\\n",
       "2868        2868    Maruti  Hyderabad  2013              69000    Diesel   \n",
       "5924        5924  Mahindra      Kochi  2017              26741    Diesel   \n",
       "3764        3764  Mahindra      Delhi  2014              86000    Diesel   \n",
       "4144        4144      Tata       Pune  2016              52000    Diesel   \n",
       "2780        2780   Hyundai       Pune  2009             100000    Petrol   \n",
       "1514        1514     Honda     Mumbai  2008             125000    Petrol   \n",
       "1199        1199    Nissan     Mumbai  2014              28238    Petrol   \n",
       "84            84    Maruti     Jaipur  2013              99638    Diesel   \n",
       "1219        1219     Honda    Kolkata  2013              46125    Petrol   \n",
       "1554        1554    Maruti  Hyderabad  2012              68776    Petrol   \n",
       "\n",
       "     Transmission Owner_Type  Mileage  Engine   Power  Seats New_Price  Price  \n",
       "2868       Manual      First    23.40  1248.0   74.00    5.0       NaN   5.75  \n",
       "5924       Manual      First    15.40  1997.0  120.00    7.0       NaN  10.08  \n",
       "3764       Manual      First    15.10  2179.0  140.00    7.0       NaN   7.85  \n",
       "4144       Manual     Second    25.00  1396.0   69.01    5.0       NaN   2.40  \n",
       "2780       Manual      First     0.00     NaN     NaN    NaN       NaN   1.60  \n",
       "1514    Automatic      Third    11.70  2354.0  177.60    5.0       NaN   2.60  \n",
       "1199       Manual      First    13.24  1598.0  102.50    5.0       NaN   5.55  \n",
       "84         Manual      First    23.20  1248.0   73.94    5.0       NaN   3.11  \n",
       "1219    Automatic     Second    12.00  2354.0  187.40    5.0       NaN  12.50  \n",
       "1554       Manual      First    21.10  1197.0   85.80    5.0       NaN   3.90  "
      ]
     },
     "execution_count": 8,
     "metadata": {},
     "output_type": "execute_result"
    }
   ],
   "source": [
    "clean_data.sample(10, random_state=42)"
   ]
  },
  {
   "cell_type": "markdown",
   "metadata": {},
   "source": [
    "To start addressing the missing values problem, we first need to represent all the missing value with a single reperesentation. So instead of having both `NaN` and `0` as representations of missing values, we transform all `0` values to `NaN` values as well."
   ]
  },
  {
   "cell_type": "code",
   "execution_count": 9,
   "metadata": {},
   "outputs": [],
   "source": [
    "clean_data = clean_data.replace(0, np.nan)"
   ]
  },
  {
   "cell_type": "markdown",
   "metadata": {},
   "source": [
    "With `NaN` as the representation for the missing values, we can run the following statement to get the percentage of missing values in each feature"
   ]
  },
  {
   "cell_type": "code",
   "execution_count": 10,
   "metadata": {},
   "outputs": [
    {
     "data": {
      "text/plain": [
       "Unnamed: 0            0.016614\n",
       "Name                  0.000000\n",
       "Location              0.000000\n",
       "Year                  0.000000\n",
       "Kilometers_Driven     0.000000\n",
       "Fuel_Type             0.000000\n",
       "Transmission          0.000000\n",
       "Owner_Type            0.000000\n",
       "Mileage               1.162984\n",
       "Engine                0.598106\n",
       "Power                 2.375810\n",
       "Seats                 0.714404\n",
       "New_Price            86.310018\n",
       "Price                 0.000000\n",
       "dtype: float64"
      ]
     },
     "execution_count": 10,
     "metadata": {},
     "output_type": "execute_result"
    }
   ],
   "source": [
    "clean_data.isnull().mean() * 100"
   ]
  },
  {
   "cell_type": "markdown",
   "metadata": {},
   "source": [
    "With the big number of data missing from the `New_Price` feature, it'd be reasonable to drop that feature all together for now, along with the `Unnamed: 0` column which has no purpose."
   ]
  },
  {
   "cell_type": "code",
   "execution_count": 11,
   "metadata": {},
   "outputs": [],
   "source": [
    "clean_data = clean_data.drop(['New_Price', 'Unnamed: 0'], axis=1)"
   ]
  },
  {
   "cell_type": "markdown",
   "metadata": {},
   "source": [
    "For the other features with missing values, we can apply a simple imputation startegy, which replaces each missing value with the mean value of the existing values. But before we do that, we need to encode the categorical features and make the train-test split. We encode the categrocial feature using the `OrdinalEncoder` of `sklearn.preprocessing`. We also make use of `ColumnTransformer` from `sklearn.compose` to limit the ordinal encoding to the categorical columns only."
   ]
  },
  {
   "cell_type": "code",
   "execution_count": 12,
   "metadata": {},
   "outputs": [],
   "source": [
    "from sklearn.compose import ColumnTransformer\n",
    "from sklearn.preprocessing import OrdinalEncoder\n",
    "from sklearn.model_selection import train_test_split\n",
    "\n",
    "categorical_features = [\n",
    "    'Name','Location', 'Fuel_Type', 'Transmission', 'Owner_Type'\n",
    "]\n",
    "\n",
    "encoder = ColumnTransformer([\n",
    "    ('categories_encoder', OrdinalEncoder(), categorical_features)\n",
    "], remainder='passthrough')\n",
    "\n",
    "encoded_data = encoder.fit_transform(clean_data)\n",
    "\n",
    "X, y = encoded_data[:, :-1], encoded_data[:, -1]\n",
    "\n",
    "X_train, X_test, y_train, y_test = train_test_split(X, y, random_state=42)"
   ]
  },
  {
   "cell_type": "markdown",
   "metadata": {},
   "source": [
    "Now that we preprocessed our data, we can run the imputation process"
   ]
  },
  {
   "cell_type": "code",
   "execution_count": 13,
   "metadata": {},
   "outputs": [],
   "source": [
    "from sklearn.impute import SimpleImputer\n",
    "\n",
    "imputer = SimpleImputer(strategy='mean')\n",
    "X_train = imputer.fit_transform(X_train)\n",
    "\n",
    "X_test = imputer.transform(X_test)"
   ]
  },
  {
   "cell_type": "markdown",
   "metadata": {},
   "source": [
    "Now our data is ready to train the decision tree.\n",
    "\n",
    "### 7.2.2 Training and Evaluating the Decision Tree\n",
    "\n",
    "Like any scikit-learn model, training a decision tree is nothing but running the `fit` method of a `DecisionTreeRegressor` object, which can be found in the `sklearn.tree module`."
   ]
  },
  {
   "cell_type": "code",
   "execution_count": 14,
   "metadata": {},
   "outputs": [
    {
     "data": {
      "text/plain": [
       "DecisionTreeRegressor(ccp_alpha=0.0, criterion='mse', max_depth=None,\n",
       "                      max_features=None, max_leaf_nodes=None,\n",
       "                      min_impurity_decrease=0.0, min_impurity_split=None,\n",
       "                      min_samples_leaf=1, min_samples_split=2,\n",
       "                      min_weight_fraction_leaf=0.0, presort='deprecated',\n",
       "                      random_state=42, splitter='best')"
      ]
     },
     "execution_count": 14,
     "metadata": {},
     "output_type": "execute_result"
    }
   ],
   "source": [
    "from sklearn.tree import DecisionTreeRegressor\n",
    "\n",
    "model = DecisionTreeRegressor(random_state=42)\n",
    "model.fit(X_train, y_train)"
   ]
  },
  {
   "cell_type": "markdown",
   "metadata": {},
   "source": [
    "To evaluate our trained decision tree on the testing data, we use the `mean_squared_error` function from `sklearn.metrics`."
   ]
  },
  {
   "cell_type": "code",
   "execution_count": 15,
   "metadata": {},
   "outputs": [
    {
     "name": "stdout",
     "output_type": "stream",
     "text": [
      "MSE = 31.37\n"
     ]
    }
   ],
   "source": [
    "from sklearn.metrics import mean_squared_error\n",
    "\n",
    "y_predicted = model.predict(X_test)\n",
    "mse = mean_squared_error(y_true=y_test, y_pred=y_predicted)\n",
    "print(\"MSE = {:.2f}\".format(mse))"
   ]
  },
  {
   "cell_type": "markdown",
   "metadata": {},
   "source": [
    "Because MSE is not an absolute-valued score and doesn't tell us much information about the model's quality on its own, another score is used which has a nice interpretation like accuracy have in classification settings. That score is called R-squared, and it captures the fraction of variance in the labels explained by the model. This score can be calculated using the `r2_score` function from `sklearn.metrics`, or through the `score` method of any regression model in scikit-learn"
   ]
  },
  {
   "cell_type": "code",
   "execution_count": 16,
   "metadata": {},
   "outputs": [
    {
     "name": "stdout",
     "output_type": "stream",
     "text": [
      "R-squared = 0.75\n"
     ]
    }
   ],
   "source": [
    "r2 = model.score(X_test, y_test)\n",
    "print(\"R-squared = {:.2f}\".format(r2))"
   ]
  },
  {
   "cell_type": "code",
   "execution_count": 17,
   "metadata": {},
   "outputs": [
    {
     "name": "stdout",
     "output_type": "stream",
     "text": [
      "MAE = 2.20\n"
     ]
    }
   ],
   "source": [
    "from sklearn.metrics import mean_absolute_error\n",
    "\n",
    "mae = mean_absolute_error(y_true=y_test, y_pred=y_predicted)\n",
    "print(\"MAE = {:.2f}\".format(mae))"
   ]
  },
  {
   "cell_type": "code",
   "execution_count": 18,
   "metadata": {},
   "outputs": [
    {
     "data": {
      "text/plain": [
       "{'whiskers': [<matplotlib.lines.Line2D at 0x7ff498fcae10>,\n",
       "  <matplotlib.lines.Line2D at 0x7ff498edef28>],\n",
       " 'caps': [<matplotlib.lines.Line2D at 0x7ff498edeeb8>,\n",
       "  <matplotlib.lines.Line2D at 0x7ff498e755f8>],\n",
       " 'boxes': [<matplotlib.lines.Line2D at 0x7ff498ede550>],\n",
       " 'medians': [<matplotlib.lines.Line2D at 0x7ff498e75940>],\n",
       " 'fliers': [<matplotlib.lines.Line2D at 0x7ff498e75c88>],\n",
       " 'means': []}"
      ]
     },
     "execution_count": 18,
     "metadata": {},
     "output_type": "execute_result"
    },
    {
     "data": {
      "image/png": "[encoded data removed]",
      "text/plain": [
       "<Figure size 1440x720 with 2 Axes>"
      ]
     },
     "metadata": {
      "needs_background": "light"
     },
     "output_type": "display_data"
    }
   ],
   "source": [
    "import matplotlib.pyplot as plt\n",
    "\n",
    "absolute_errors = np.abs(y_predicted - y_test)\n",
    "fig = plt.figure(figsize=(20, 10))\n",
    "ax1, ax2 = fig.subplots(nrows=1, ncols=2)\n",
    "ax1.hist(absolute_errors, bins=100)\n",
    "ax2.boxplot(absolute_errors)"
   ]
  },
  {
   "cell_type": "code",
   "execution_count": 19,
   "metadata": {},
   "outputs": [
    {
     "name": "stdout",
     "output_type": "stream",
     "text": [
      "MedAE = 0.75\n"
     ]
    }
   ],
   "source": [
    "from sklearn.metrics import median_absolute_error\n",
    "\n",
    "medae = median_absolute_error(y_true=y_test, y_pred=y_predicted)\n",
    "print(\"MedAE = {:.2f}\".format(medae))"
   ]
  },
  {
   "cell_type": "code",
   "execution_count": 68,
   "metadata": {},
   "outputs": [
    {
     "name": "stdout",
     "output_type": "stream",
     "text": [
      "Collecting package metadata (current_repodata.json): done\n",
      "Solving environment: done\n",
      "\n",
      "# All requested packages already installed.\n",
      "\n"
     ]
    }
   ],
   "source": [
    "!conda install -y python-graphviz"
   ]
  },
  {
   "cell_type": "code",
   "execution_count": 21,
   "metadata": {},
   "outputs": [
    {
     "data": {
      "text/plain": [
       "'visulaized_tree.pdf'"
      ]
     },
     "execution_count": 21,
     "metadata": {},
     "output_type": "execute_result"
    }
   ],
   "source": [
    "from sklearn.tree import export_graphviz\n",
    "import graphviz\n",
    "\n",
    "numerical_features = [\n",
    "    'Year', 'Kilometers_Driven', 'Mileage', 'Engine', 'Power', 'Seats'\n",
    "]\n",
    "\n",
    "dot_data = export_graphviz(\n",
    "    model,\n",
    "    # This allows the visualization to put feature names in decision nodes\n",
    "    feature_names=categorical_features + numerical_features,\n",
    "    # This makes the nodes with rounded corners\n",
    "    rounded=True,\n",
    "    # fills the nodes with gradient of colors indicating how high/low the decision value is\n",
    "    filled=True,\n",
    "    # uses special charcaters like ≤ instead of <\n",
    "    special_characters=True\n",
    ")\n",
    "\n",
    "visualized_tree = graphviz.Source(dot_data)\n",
    "visualized_tree.render(\"visulaized_tree\")"
   ]
  },
  {
   "cell_type": "code",
   "execution_count": 20,
   "metadata": {},
   "outputs": [
    {
     "name": "stdout",
     "output_type": "stream",
     "text": [
      "4514 data samples are put into 4300 leaf nodes\n"
     ]
    }
   ],
   "source": [
    "training_count, _ = X_train.shape\n",
    "leaves_count = model.get_n_leaves()\n",
    "\n",
    "print(\"{} data samples are put into {} leaf nodes\".format(\n",
    "    training_count, leaves_count\n",
    "))"
   ]
  },
  {
   "cell_type": "code",
   "execution_count": 21,
   "metadata": {},
   "outputs": [
    {
     "name": "stdout",
     "output_type": "stream",
     "text": [
      "Estimated Tree Variance = 18.52\n"
     ]
    }
   ],
   "source": [
    "from utils import estimate_tree_variance\n",
    "\n",
    "tree_var = estimate_tree_variance(X, y)\n",
    "print(\"Estimated Tree Variance = {:.2f}\".format(tree_var))"
   ]
  },
  {
   "cell_type": "code",
   "execution_count": 22,
   "metadata": {},
   "outputs": [
    {
     "name": "stdout",
     "output_type": "stream",
     "text": [
      "Estimated Tree Variance = 12.67\n"
     ]
    }
   ],
   "source": [
    "from utils import estimate_tree_variance\n",
    "\n",
    "tree_var = estimate_tree_variance(X, y, min_samples_leaf=3)\n",
    "print(\"Estimated Tree Variance = {:.2f}\".format(tree_var))"
   ]
  },
  {
   "cell_type": "code",
   "execution_count": 218,
   "metadata": {},
   "outputs": [
    {
     "name": "stdout",
     "output_type": "stream",
     "text": [
      "0.6606648085625602\n",
      "0.6606648085625602\n",
      "0.6606648085625602\n",
      "0.6606648085625602\n",
      "0.6606648085625602\n",
      "0.6606648085625602\n",
      "0.6606648085625602\n",
      "0.6606648085625602\n",
      "0.6606648085625602\n",
      "0.6606648085625602\n",
      "0.6606648085625602\n",
      "0.6606648085625602\n",
      "0.6606648085625602\n",
      "0.6606648085625602\n",
      "0.6606648085625602\n",
      "0.6606648085625602\n",
      "0.6606648085625602\n",
      "0.6606648085625602\n",
      "0.6606648085625602\n",
      "1\n"
     ]
    }
   ],
   "source": [
    "X_train_sub, X_valid, y_train_sub, y_valid = train_test_split(X_train, y_train)\n",
    "\n",
    "best_score = -np.inf\n",
    "best_parameter = None\n",
    "for n in range(1, 20):\n",
    "    \n",
    "    v_dt = DecisionTreeRegressor(random_state=42, min_samples_leaf=1)\n",
    "    v_dt.fit(X_train_sub, y_train_sub)\n",
    "    \n",
    "    v_preds = v_dt.predict(X_valid)\n",
    "    v_score = v_dt.score(X_valid, y_valid)\n",
    "    \n",
    "    print(v_score)\n",
    "    if v_score > best_score:\n",
    "        best_score = v_score\n",
    "        best_parameter = n\n",
    "        \n",
    "print(best_parameter)"
   ]
  },
  {
   "cell_type": "code",
   "execution_count": 26,
   "metadata": {},
   "outputs": [
    {
     "data": {
      "text/plain": [
       "(array([ 5., 11., 18., 24., 23., 78., 53., 57., 56., 57., 45., 30., 15.,\n",
       "        13.,  3.,  4.,  5.,  1.,  2.]),\n",
       " array([0.7325    , 0.74394737, 0.75539474, 0.76684211, 0.77828947,\n",
       "        0.78973684, 0.80118421, 0.81263158, 0.82407895, 0.83552632,\n",
       "        0.84697368, 0.85842105, 0.86986842, 0.88131579, 0.89276316,\n",
       "        0.90421053, 0.91565789, 0.92710526, 0.93855263, 0.95      ]),\n",
       " <a list of 19 Patch objects>)"
      ]
     },
     "execution_count": 26,
     "metadata": {},
     "output_type": "execute_result"
    },
    {
     "data": {
      "image/png": "[encoded data removed]",
      "text/plain": [
       "<Figure size 432x288 with 1 Axes>"
      ]
     },
     "metadata": {
      "needs_background": "light"
     },
     "output_type": "display_data"
    }
   ],
   "source": [
    "validation_scores = []\n",
    "\n",
    "# This ensures that each time this script runs, it produces the same result\n",
    "# without fixing the output of a random process (such as train_test_split)\n",
    "# in each iteration of the loop\n",
    "np.random.seed(42)\n",
    "\n",
    "for _ in range(500):\n",
    "    X_train_new, X_valid, y_train_new, y_valid = train_test_split(X_train, y_train)\n",
    "    \n",
    "    validation_imputer = SimpleImputer(strategy='mean')\n",
    "    X_train_new = validation_imputer.fit_transform(X_train_new)\n",
    "    X_valid = validation_imputer.transform(X_valid)\n",
    "    \n",
    "    validation_model = DecisionTreeRegressor(random_state=42, min_samples_leaf=3)\n",
    "    validation_model.fit(X_train_new, y_train_new)\n",
    "    \n",
    "    validation_preds = validation_model.predict(X_valid)\n",
    "    \n",
    "    validation_scores.append(median_absolute_error(y_valid, validation_preds))\n",
    "\n",
    "plt.hist(validation_scores, bins='fd')"
   ]
  },
  {
   "cell_type": "code",
   "execution_count": 27,
   "metadata": {},
   "outputs": [
    {
     "data": {
      "image/png": "[encoded data removed]",
      "text/plain": [
       "<Figure size 432x288 with 1 Axes>"
      ]
     },
     "metadata": {},
     "output_type": "display_data"
    }
   ],
   "source": [
    "with plt.xkcd():\n",
    "    plt.hist(validation_scores, bins='fd')"
   ]
  },
  {
   "cell_type": "code",
   "execution_count": 28,
   "metadata": {},
   "outputs": [
    {
     "name": "stdout",
     "output_type": "stream",
     "text": [
      "[min_samples_leaf = 3] MedAE = 0.82\n"
     ]
    }
   ],
   "source": [
    "trimmed_model_3 = DecisionTreeRegressor(random_state=42, min_samples_leaf=6)\n",
    "trimmed_model_3.fit(X_train, y_train)\n",
    "y_predicted_trimmed_3 = trimmed_model_3.predict(X_test)\n",
    "\n",
    "medae_trimmed_3 = median_absolute_error(y_test, y_predicted_trimmed_3)\n",
    "print(\"[min_samples_leaf = 3] MedAE = {:.2f}\".format(medae_trimmed_3))"
   ]
  },
  {
   "cell_type": "code",
   "execution_count": 61,
   "metadata": {},
   "outputs": [
    {
     "data": {
      "text/plain": [
       "GridSearchCV(cv=3, error_score=nan,\n",
       "             estimator=Pipeline(memory=None,\n",
       "                                steps=[('imputer',\n",
       "                                        SimpleImputer(add_indicator=False,\n",
       "                                                      copy=True,\n",
       "                                                      fill_value=None,\n",
       "                                                      missing_values=nan,\n",
       "                                                      strategy='mean',\n",
       "                                                      verbose=0)),\n",
       "                                       ('tree',\n",
       "                                        DecisionTreeRegressor(ccp_alpha=0.0,\n",
       "                                                              criterion='mse',\n",
       "                                                              max_depth=None,\n",
       "                                                              max_features=None,\n",
       "                                                              max_leaf_nodes=None,\n",
       "                                                              min_impurity_decrease=0.0,\n",
       "                                                              min_impurity_split=No...\n",
       "                                                              min_samples_split=2,\n",
       "                                                              min_weight_fraction_leaf=0.0,\n",
       "                                                              presort='deprecated',\n",
       "                                                              random_state=42,\n",
       "                                                              splitter='best'))],\n",
       "                                verbose=False),\n",
       "             iid='deprecated', n_jobs=None,\n",
       "             param_grid={'tree__min_samples_leaf': array([ 1,  2,  3,  4,  5,  6,  7,  8,  9, 10, 11, 12, 13, 14, 15, 16, 17,\n",
       "       18, 19])},\n",
       "             pre_dispatch='2*n_jobs', refit=True, return_train_score=False,\n",
       "             scoring='neg_median_absolute_error', verbose=0)"
      ]
     },
     "execution_count": 61,
     "metadata": {},
     "output_type": "execute_result"
    }
   ],
   "source": [
    "from sklearn.model_selection import GridSearchCV\n",
    "from sklearn.pipeline import Pipeline\n",
    "\n",
    "pipeline = Pipeline([\n",
    "    ('imputer', SimpleImputer(strategy='mean')),\n",
    "    ('tree', DecisionTreeRegressor(random_state=42))\n",
    "])\n",
    "\n",
    "model_selector = GridSearchCV(pipeline, param_grid={\n",
    "    'tree__min_samples_leaf': np.arange(1, 20),\n",
    "}, scoring='neg_median_absolute_error', cv=3)\n",
    "\n",
    "model_selector.fit(X_train, y_train)"
   ]
  },
  {
   "cell_type": "code",
   "execution_count": 62,
   "metadata": {},
   "outputs": [
    {
     "name": "stdout",
     "output_type": "stream",
     "text": [
      "{'tree__min_samples_leaf': 4}\n"
     ]
    }
   ],
   "source": [
    "print(model_selector.best_params_)\n",
    "best_trimmed_tree = model_selector.best_estimator_"
   ]
  },
  {
   "cell_type": "code",
   "execution_count": 63,
   "metadata": {},
   "outputs": [
    {
     "name": "stdout",
     "output_type": "stream",
     "text": [
      "[min_samples_leaf = 4] MedAE = 0.74\n",
      "[min_smaples_leaf = 4] Leaves = 913\n",
      "[min_smaples_leaf = 4] Variance = 10.82\n"
     ]
    }
   ],
   "source": [
    "best_trimmed_preds = best_trimmed_tree.predict(X_test)\n",
    "best_trimmed_medae = median_absolute_error(y_test, best_trimmed_preds)\n",
    "\n",
    "# we access steps of the pipeline like we get values from a dict\n",
    "best_trimmed_n_leaves = best_trimmed_tree['tree'].get_n_leaves()\n",
    "best_trimmed_variance = estimate_tree_variance(\n",
    "    X_train, y_train, min_samples_leaf=4\n",
    ")\n",
    "\n",
    "print(\"[min_samples_leaf = 4] MedAE = {:.2f}\".format(best_trimmed_medae))\n",
    "print(\"[min_smaples_leaf = 4] Leaves = {}\".format(best_trimmed_n_leaves))\n",
    "print(\"[min_smaples_leaf = 4] Variance = {:.2f}\".format(best_trimmed_variance))"
   ]
  },
  {
   "cell_type": "code",
   "execution_count": 178,
   "metadata": {},
   "outputs": [
    {
     "data": {
      "text/plain": [
       "{'tree__min_samples_leaf': 4}"
      ]
     },
     "execution_count": 178,
     "metadata": {},
     "output_type": "execute_result"
    }
   ],
   "source": [
    "model_selector.best_params_"
   ]
  },
  {
   "cell_type": "code",
   "execution_count": 26,
   "metadata": {},
   "outputs": [
    {
     "data": {
      "text/plain": [
       "2.132070290854977"
      ]
     },
     "execution_count": 26,
     "metadata": {},
     "output_type": "execute_result"
    }
   ],
   "source": [
    "from utils import estimate_forest_variance\n",
    "\n",
    "estimate_forest_variance(X, y)"
   ]
  },
  {
   "cell_type": "code",
   "execution_count": 24,
   "metadata": {},
   "outputs": [
    {
     "data": {
      "text/plain": [
       "19.36039318477522"
      ]
     },
     "execution_count": 24,
     "metadata": {},
     "output_type": "execute_result"
    }
   ],
   "source": [
    "estimate_tree_variance(X, y, runs=100)"
   ]
  },
  {
   "cell_type": "code",
   "execution_count": 25,
   "metadata": {},
   "outputs": [
    {
     "data": {
      "text/plain": [
       "2.1144687015132657"
      ]
     },
     "execution_count": 25,
     "metadata": {},
     "output_type": "execute_result"
    }
   ],
   "source": [
    "estimate_forest_variance(X, y, runs=100)"
   ]
  },
  {
   "cell_type": "code",
   "execution_count": 26,
   "metadata": {},
   "outputs": [
    {
     "data": {
      "text/plain": [
       "12.894644095464947"
      ]
     },
     "execution_count": 26,
     "metadata": {},
     "output_type": "execute_result"
    }
   ],
   "source": [
    "estimate_tree_variance(X, y, runs=100, min_samples_leaf=3)"
   ]
  },
  {
   "cell_type": "code",
   "execution_count": 71,
   "metadata": {},
   "outputs": [],
   "source": [
    "xs, variances = [], []\n",
    "train_error, test_error = [], []\n",
    "max_l = 21\n",
    "for n in range(1, max_l):\n",
    "    xs.append(n)\n",
    "    variances.append(estimate_tree_variance(X, y, runs=1000, min_samples_leaf=max_l - n))\n",
    "    \n",
    "    model = DecisionTreeRegressor(min_samples_leaf=max_l - n)\n",
    "    model.fit(X_train, y_train)\n",
    "    \n",
    "    train_error.append(mean_squared_error(y_train, model.predict(X_train)))\n",
    "    test_error.append(mean_squared_error(y_test, model.predict(X_test)))\n"
   ]
  },
  {
   "cell_type": "code",
   "execution_count": 77,
   "metadata": {},
   "outputs": [
    {
     "data": {
      "text/plain": [
       "[<matplotlib.lines.Line2D at 0x7ff495ac3da0>]"
      ]
     },
     "execution_count": 77,
     "metadata": {},
     "output_type": "execute_result"
    },
    {
     "data": {
      "image/png": "[encoded data removed]",
      "text/plain": [
       "<Figure size 432x288 with 1 Axes>"
      ]
     },
     "metadata": {
      "needs_background": "light"
     },
     "output_type": "display_data"
    }
   ],
   "source": [
    "plt.plot(xs, np.array(variances), color='black', linestyle='--')\n",
    "plt.plot(xs, (train_error), color='green')\n",
    "plt.plot(xs, (test_error), color='red')\n",
    "plt.plot(xs, (np.array(test_error) - np.array(train_error)), color='blue', linestyle='--')"
   ]
  },
  {
   "cell_type": "code",
   "execution_count": 183,
   "metadata": {},
   "outputs": [
    {
     "data": {
      "text/plain": [
       "Text(12.473843389140505, 0.03, 'Q3 + 1.5IQR')"
      ]
     },
     "execution_count": 183,
     "metadata": {},
     "output_type": "execute_result"
    },
    {
     "data": {
      "image/png": "[encoded data removed]",
      "text/plain": [
       "<Figure size 720x720 with 2 Axes>"
      ]
     },
     "metadata": {},
     "output_type": "display_data"
    }
   ],
   "source": [
    "from scipy.stats import norm, halfnorm\n",
    "\n",
    "xs = np.linspace(-20, 20, 1000)\n",
    "density = norm.pdf(xs, loc=0, scale=5)\n",
    "rvs = norm.rvs(loc=0, scale=5, size=1000000, random_state=5)\n",
    "\n",
    "q1, q3 = np.quantile(rvs, [0.25, 0.75])\n",
    "iqr = q3 - q1\n",
    "\n",
    "plt.xkcd()\n",
    "fig = plt.figure(figsize=(10, 10))\n",
    "plt.subplots_adjust(wspace=None, hspace=0.0)\n",
    "ax1, ax2 = fig.subplots(2, 1)\n",
    "ax1.boxplot(rvs, vert=False, sym='', notch=False)\n",
    "ax1.set_xlim([-20, 20])\n",
    "ax1.set_xticks([])\n",
    "ax1.set_yticks([])\n",
    "ax1.spines['top'].set_visible(False)\n",
    "ax1.spines['bottom'].set_visible(False)\n",
    "ax1.spines['left'].set_visible(False)\n",
    "ax1.spines['right'].set_visible(False)\n",
    "ax2.spines['top'].set_visible(False)\n",
    "ax2.spines['left'].set_visible(False)\n",
    "ax2.spines['right'].set_visible(False)\n",
    "ax2.plot(xs, density)\n",
    "ax2.set_xlim([-20, 20])\n",
    "ax2.set_yticks([])\n",
    "ax2.set_xticks([-20, -15, -10, -5, 0, 5, 10, 15, 20])\n",
    "ax2.set_xticklabels(['$-4\\sigma$', r'$-3\\sigma$', r'$-2\\sigma$', r'$-\\sigma$', r'$\\mu$', r'$+\\sigma$', r'$+2\\sigma$', r'$+3\\sigma$', r'+4$\\sigma$']\n",
    ")\n",
    "\n",
    "ax2.axvline(0, color='orange', linewidth=1)\n",
    "ax2.text(-1, 0.03, 'Mean/Median', rotation=90, color='orange', weight='bold')\n",
    "ax1.axvline(0, color='orange', ymax=0.5, linewidth=1)\n",
    "\n",
    "ax1.axvline(q3, linewidth=1, linestyle='--', ymax=0.5, color='black')\n",
    "ax2.axvline(q3, linewidth=1, linestyle='--', color='black')\n",
    "ax2.text(q3 - 1, 0.03, 'Q3', rotation=90, color='black', weight='bold')\n",
    "\n",
    "ax1.axvline(q1, linewidth=1, linestyle='--', ymax=0.5, color='black')\n",
    "ax2.axvline(q1, linewidth=1, linestyle='--', color='black')\n",
    "ax2.text(q1 - 1, 0.03, 'Q1', rotation=90, color='black', weight='bold')\n",
    "\n",
    "ax1.axvline(q1 - 1.5*iqr, linewidth=1, linestyle='--', ymax=0.5, color='black')\n",
    "ax2.axvline(q1 - 1.5*iqr, linewidth=1, linestyle='--', color='black')\n",
    "ax2.text(q1 - 1.5*iqr -1, 0.03, 'Q1 - 1.5IQR', rotation=90, color='black', weight='bold')\n",
    "\n",
    "ax1.axvline(q3 + 1.5*iqr, linewidth=1, linestyle='--', ymax=0.5, color='black')\n",
    "ax2.axvline(q3 + 1.5*iqr, linewidth=1, linestyle='--', color='black')\n",
    "ax2.text(q3 + 1.5*iqr - 1, 0.03, 'Q3 + 1.5IQR', rotation=90, color='black', weight='bold')"
   ]
  },
  {
   "cell_type": "code",
   "execution_count": 38,
   "metadata": {},
   "outputs": [
    {
     "ename": "TypeError",
     "evalue": "__init__() got an unexpected keyword argument 'max_samples'",
     "output_type": "error",
     "traceback": [
      "\u001b[0;31m---------------------------------------------------------------------------\u001b[0m",
      "\u001b[0;31mTypeError\u001b[0m                                 Traceback (most recent call last)",
      "\u001b[0;32m<ipython-input-38-53c77185c004>\u001b[0m in \u001b[0;36m<module>\u001b[0;34m\u001b[0m\n\u001b[1;32m      1\u001b[0m \u001b[0;32mfrom\u001b[0m \u001b[0msklearn\u001b[0m\u001b[0;34m.\u001b[0m\u001b[0mensemble\u001b[0m \u001b[0;32mimport\u001b[0m \u001b[0mRandomForestRegressor\u001b[0m\u001b[0;34m\u001b[0m\u001b[0;34m\u001b[0m\u001b[0m\n\u001b[1;32m      2\u001b[0m \u001b[0;34m\u001b[0m\u001b[0m\n\u001b[0;32m----> 3\u001b[0;31m \u001b[0mrf_model\u001b[0m \u001b[0;34m=\u001b[0m \u001b[0mRandomForestRegressor\u001b[0m\u001b[0;34m(\u001b[0m\u001b[0mn_estimators\u001b[0m\u001b[0;34m=\u001b[0m\u001b[0;36m500\u001b[0m\u001b[0;34m,\u001b[0m \u001b[0mmax_samples\u001b[0m\u001b[0;34m=\u001b[0m\u001b[0;36m0.5\u001b[0m\u001b[0;34m)\u001b[0m\u001b[0;34m\u001b[0m\u001b[0;34m\u001b[0m\u001b[0m\n\u001b[0m\u001b[1;32m      4\u001b[0m \u001b[0mrf_model\u001b[0m\u001b[0;34m.\u001b[0m\u001b[0mfit\u001b[0m\u001b[0;34m(\u001b[0m\u001b[0mX_train\u001b[0m\u001b[0;34m,\u001b[0m \u001b[0my_train\u001b[0m\u001b[0;34m)\u001b[0m\u001b[0;34m\u001b[0m\u001b[0;34m\u001b[0m\u001b[0m\n\u001b[1;32m      5\u001b[0m \u001b[0;34m\u001b[0m\u001b[0m\n",
      "\u001b[0;31mTypeError\u001b[0m: __init__() got an unexpected keyword argument 'max_samples'"
     ]
    }
   ],
   "source": [
    "from sklearn.ensemble import RandomForestRegressor\n",
    "\n",
    "rf_model = RandomForestRegressor(n_estimators=500, max_samples=0.5)\n",
    "rf_model.fit(X_train, y_train)\n",
    "\n",
    "rf_pred = rf_model.predict(X_test)\n",
    "\n",
    "median_absolute_error(y_test, rf_pred)"
   ]
  },
  {
   "cell_type": "code",
   "execution_count": 60,
   "metadata": {},
   "outputs": [
    {
     "data": {
      "text/plain": [
       "GridSearchCV(cv=3, error_score='raise-deprecating',\n",
       "             estimator=DecisionTreeRegressor(criterion='mse', max_depth=None,\n",
       "                                             max_features=None,\n",
       "                                             max_leaf_nodes=None,\n",
       "                                             min_impurity_decrease=0.0,\n",
       "                                             min_impurity_split=None,\n",
       "                                             min_samples_leaf=1,\n",
       "                                             min_samples_split=2,\n",
       "                                             min_weight_fraction_leaf=0.0,\n",
       "                                             presort=False, random_state=42,\n",
       "                                             splitter='best'),\n",
       "             iid='warn', n_jobs=None,\n",
       "             param_grid={'min_samples_leaf': array([ 1,  2,  3,  4,  5,  6,  7,  8,  9, 10, 11, 12, 13, 14, 15, 16, 17,\n",
       "       18, 19, 20])},\n",
       "             pre_dispatch='2*n_jobs', refit=True, return_train_score=False,\n",
       "             scoring='neg_median_absolute_error', verbose=0)"
      ]
     },
     "execution_count": 60,
     "metadata": {},
     "output_type": "execute_result"
    }
   ],
   "source": [
    "from sklearn.model_selection import GridSearchCV\n",
    "\n",
    "model_selector = GridSearchCV(\n",
    "    DecisionTreeRegressor(random_state=42), \n",
    "    param_grid={\n",
    "        'min_samples_leaf': np.arange(1, 21)\n",
    "    },\n",
    "    scoring='neg_median_absolute_error',\n",
    "    cv=3\n",
    ")\n",
    "\n",
    "model_selector.fit(X_train, y_train)"
   ]
  },
  {
   "cell_type": "code",
   "execution_count": 61,
   "metadata": {},
   "outputs": [
    {
     "data": {
      "text/plain": [
       "{'min_samples_leaf': 4}"
      ]
     },
     "execution_count": 61,
     "metadata": {},
     "output_type": "execute_result"
    }
   ],
   "source": [
    "model_selector.best_params_"
   ]
  },
  {
   "cell_type": "code",
   "execution_count": 62,
   "metadata": {},
   "outputs": [
    {
     "data": {
      "text/plain": [
       "-0.8397718210013293"
      ]
     },
     "execution_count": 62,
     "metadata": {},
     "output_type": "execute_result"
    }
   ],
   "source": [
    "model_selector.best_score_"
   ]
  },
  {
   "cell_type": "code",
   "execution_count": 63,
   "metadata": {},
   "outputs": [],
   "source": [
    "best_tree = model_selector.best_estimator_"
   ]
  },
  {
   "cell_type": "code",
   "execution_count": 64,
   "metadata": {},
   "outputs": [
    {
     "data": {
      "text/plain": [
       "0.7416666666666671"
      ]
     },
     "execution_count": 64,
     "metadata": {},
     "output_type": "execute_result"
    }
   ],
   "source": [
    "best_pred = best_tree.predict(X_test)\n",
    "\n",
    "median_absolute_error(y_test, best_pred)"
   ]
  },
  {
   "cell_type": "code",
   "execution_count": 65,
   "metadata": {},
   "outputs": [
    {
     "data": {
      "text/plain": [
       "0.8507434027835468"
      ]
     },
     "execution_count": 65,
     "metadata": {},
     "output_type": "execute_result"
    }
   ],
   "source": [
    "best_tree.score(X_test, y_test)"
   ]
  },
  {
   "cell_type": "code",
   "execution_count": 33,
   "metadata": {},
   "outputs": [
    {
     "data": {
      "text/plain": [
       "'0.22'"
      ]
     },
     "execution_count": 33,
     "metadata": {},
     "output_type": "execute_result"
    }
   ],
   "source": [
    "from sklearn import __version__\n",
    "from sklearn.ensemble import RandomForestRegressor\n",
    "\n",
    "__version__"
   ]
  },
  {
   "cell_type": "code",
   "execution_count": 43,
   "metadata": {},
   "outputs": [
    {
     "ename": "ValueError",
     "evalue": "max_features must be in (0, n_features]",
     "output_type": "error",
     "traceback": [
      "\u001b[0;31m---------------------------------------------------------------------------\u001b[0m",
      "\u001b[0;31mValueError\u001b[0m                                Traceback (most recent call last)",
      "\u001b[0;32m<ipython-input-43-4db3352415c3>\u001b[0m in \u001b[0;36m<module>\u001b[0;34m\u001b[0m\n\u001b[1;32m      1\u001b[0m \u001b[0mrf\u001b[0m \u001b[0;34m=\u001b[0m \u001b[0mRandomForestRegressor\u001b[0m\u001b[0;34m(\u001b[0m\u001b[0mn_estimators\u001b[0m\u001b[0;34m=\u001b[0m\u001b[0;36m100\u001b[0m\u001b[0;34m,\u001b[0m \u001b[0mmax_features\u001b[0m\u001b[0;34m=\u001b[0m\u001b[0;36m12\u001b[0m\u001b[0;34m)\u001b[0m\u001b[0;34m\u001b[0m\u001b[0;34m\u001b[0m\u001b[0m\n\u001b[0;32m----> 2\u001b[0;31m \u001b[0mrf\u001b[0m\u001b[0;34m.\u001b[0m\u001b[0mfit\u001b[0m\u001b[0;34m(\u001b[0m\u001b[0mX_train\u001b[0m\u001b[0;34m,\u001b[0m \u001b[0my_train\u001b[0m\u001b[0;34m)\u001b[0m\u001b[0;34m\u001b[0m\u001b[0;34m\u001b[0m\u001b[0m\n\u001b[0m\u001b[1;32m      3\u001b[0m \u001b[0;34m\u001b[0m\u001b[0m\n\u001b[1;32m      4\u001b[0m \u001b[0mmedian_absolute_error\u001b[0m\u001b[0;34m(\u001b[0m\u001b[0my_test\u001b[0m\u001b[0;34m,\u001b[0m \u001b[0mrf\u001b[0m\u001b[0;34m.\u001b[0m\u001b[0mpredict\u001b[0m\u001b[0;34m(\u001b[0m\u001b[0mX_test\u001b[0m\u001b[0;34m)\u001b[0m\u001b[0;34m)\u001b[0m\u001b[0;34m\u001b[0m\u001b[0;34m\u001b[0m\u001b[0m\n",
      "\u001b[0;32m~/anaconda3/lib/python3.7/site-packages/sklearn/ensemble/_forest.py\u001b[0m in \u001b[0;36mfit\u001b[0;34m(self, X, y, sample_weight)\u001b[0m\n\u001b[1;32m    381\u001b[0m                     \u001b[0mverbose\u001b[0m\u001b[0;34m=\u001b[0m\u001b[0mself\u001b[0m\u001b[0;34m.\u001b[0m\u001b[0mverbose\u001b[0m\u001b[0;34m,\u001b[0m \u001b[0mclass_weight\u001b[0m\u001b[0;34m=\u001b[0m\u001b[0mself\u001b[0m\u001b[0;34m.\u001b[0m\u001b[0mclass_weight\u001b[0m\u001b[0;34m,\u001b[0m\u001b[0;34m\u001b[0m\u001b[0;34m\u001b[0m\u001b[0m\n\u001b[1;32m    382\u001b[0m                     n_samples_bootstrap=n_samples_bootstrap)\n\u001b[0;32m--> 383\u001b[0;31m                 for i, t in enumerate(trees))\n\u001b[0m\u001b[1;32m    384\u001b[0m \u001b[0;34m\u001b[0m\u001b[0m\n\u001b[1;32m    385\u001b[0m             \u001b[0;31m# Collect newly grown trees\u001b[0m\u001b[0;34m\u001b[0m\u001b[0;34m\u001b[0m\u001b[0;34m\u001b[0m\u001b[0m\n",
      "\u001b[0;32m~/anaconda3/lib/python3.7/site-packages/joblib/parallel.py\u001b[0m in \u001b[0;36m__call__\u001b[0;34m(self, iterable)\u001b[0m\n\u001b[1;32m    919\u001b[0m             \u001b[0;31m# remaining jobs.\u001b[0m\u001b[0;34m\u001b[0m\u001b[0;34m\u001b[0m\u001b[0;34m\u001b[0m\u001b[0m\n\u001b[1;32m    920\u001b[0m             \u001b[0mself\u001b[0m\u001b[0;34m.\u001b[0m\u001b[0m_iterating\u001b[0m \u001b[0;34m=\u001b[0m \u001b[0;32mFalse\u001b[0m\u001b[0;34m\u001b[0m\u001b[0;34m\u001b[0m\u001b[0m\n\u001b[0;32m--> 921\u001b[0;31m             \u001b[0;32mif\u001b[0m \u001b[0mself\u001b[0m\u001b[0;34m.\u001b[0m\u001b[0mdispatch_one_batch\u001b[0m\u001b[0;34m(\u001b[0m\u001b[0miterator\u001b[0m\u001b[0;34m)\u001b[0m\u001b[0;34m:\u001b[0m\u001b[0;34m\u001b[0m\u001b[0;34m\u001b[0m\u001b[0m\n\u001b[0m\u001b[1;32m    922\u001b[0m                 \u001b[0mself\u001b[0m\u001b[0;34m.\u001b[0m\u001b[0m_iterating\u001b[0m \u001b[0;34m=\u001b[0m \u001b[0mself\u001b[0m\u001b[0;34m.\u001b[0m\u001b[0m_original_iterator\u001b[0m \u001b[0;32mis\u001b[0m \u001b[0;32mnot\u001b[0m \u001b[0;32mNone\u001b[0m\u001b[0;34m\u001b[0m\u001b[0;34m\u001b[0m\u001b[0m\n\u001b[1;32m    923\u001b[0m \u001b[0;34m\u001b[0m\u001b[0m\n",
      "\u001b[0;32m~/anaconda3/lib/python3.7/site-packages/joblib/parallel.py\u001b[0m in \u001b[0;36mdispatch_one_batch\u001b[0;34m(self, iterator)\u001b[0m\n\u001b[1;32m    757\u001b[0m                 \u001b[0;32mreturn\u001b[0m \u001b[0;32mFalse\u001b[0m\u001b[0;34m\u001b[0m\u001b[0;34m\u001b[0m\u001b[0m\n\u001b[1;32m    758\u001b[0m             \u001b[0;32melse\u001b[0m\u001b[0;34m:\u001b[0m\u001b[0;34m\u001b[0m\u001b[0;34m\u001b[0m\u001b[0m\n\u001b[0;32m--> 759\u001b[0;31m                 \u001b[0mself\u001b[0m\u001b[0;34m.\u001b[0m\u001b[0m_dispatch\u001b[0m\u001b[0;34m(\u001b[0m\u001b[0mtasks\u001b[0m\u001b[0;34m)\u001b[0m\u001b[0;34m\u001b[0m\u001b[0;34m\u001b[0m\u001b[0m\n\u001b[0m\u001b[1;32m    760\u001b[0m                 \u001b[0;32mreturn\u001b[0m \u001b[0;32mTrue\u001b[0m\u001b[0;34m\u001b[0m\u001b[0;34m\u001b[0m\u001b[0m\n\u001b[1;32m    761\u001b[0m \u001b[0;34m\u001b[0m\u001b[0m\n",
      "\u001b[0;32m~/anaconda3/lib/python3.7/site-packages/joblib/parallel.py\u001b[0m in \u001b[0;36m_dispatch\u001b[0;34m(self, batch)\u001b[0m\n\u001b[1;32m    714\u001b[0m         \u001b[0;32mwith\u001b[0m \u001b[0mself\u001b[0m\u001b[0;34m.\u001b[0m\u001b[0m_lock\u001b[0m\u001b[0;34m:\u001b[0m\u001b[0;34m\u001b[0m\u001b[0;34m\u001b[0m\u001b[0m\n\u001b[1;32m    715\u001b[0m             \u001b[0mjob_idx\u001b[0m \u001b[0;34m=\u001b[0m \u001b[0mlen\u001b[0m\u001b[0;34m(\u001b[0m\u001b[0mself\u001b[0m\u001b[0;34m.\u001b[0m\u001b[0m_jobs\u001b[0m\u001b[0;34m)\u001b[0m\u001b[0;34m\u001b[0m\u001b[0;34m\u001b[0m\u001b[0m\n\u001b[0;32m--> 716\u001b[0;31m             \u001b[0mjob\u001b[0m \u001b[0;34m=\u001b[0m \u001b[0mself\u001b[0m\u001b[0;34m.\u001b[0m\u001b[0m_backend\u001b[0m\u001b[0;34m.\u001b[0m\u001b[0mapply_async\u001b[0m\u001b[0;34m(\u001b[0m\u001b[0mbatch\u001b[0m\u001b[0;34m,\u001b[0m \u001b[0mcallback\u001b[0m\u001b[0;34m=\u001b[0m\u001b[0mcb\u001b[0m\u001b[0;34m)\u001b[0m\u001b[0;34m\u001b[0m\u001b[0;34m\u001b[0m\u001b[0m\n\u001b[0m\u001b[1;32m    717\u001b[0m             \u001b[0;31m# A job can complete so quickly than its callback is\u001b[0m\u001b[0;34m\u001b[0m\u001b[0;34m\u001b[0m\u001b[0;34m\u001b[0m\u001b[0m\n\u001b[1;32m    718\u001b[0m             \u001b[0;31m# called before we get here, causing self._jobs to\u001b[0m\u001b[0;34m\u001b[0m\u001b[0;34m\u001b[0m\u001b[0;34m\u001b[0m\u001b[0m\n",
      "\u001b[0;32m~/anaconda3/lib/python3.7/site-packages/joblib/_parallel_backends.py\u001b[0m in \u001b[0;36mapply_async\u001b[0;34m(self, func, callback)\u001b[0m\n\u001b[1;32m    180\u001b[0m     \u001b[0;32mdef\u001b[0m \u001b[0mapply_async\u001b[0m\u001b[0;34m(\u001b[0m\u001b[0mself\u001b[0m\u001b[0;34m,\u001b[0m \u001b[0mfunc\u001b[0m\u001b[0;34m,\u001b[0m \u001b[0mcallback\u001b[0m\u001b[0;34m=\u001b[0m\u001b[0;32mNone\u001b[0m\u001b[0;34m)\u001b[0m\u001b[0;34m:\u001b[0m\u001b[0;34m\u001b[0m\u001b[0;34m\u001b[0m\u001b[0m\n\u001b[1;32m    181\u001b[0m         \u001b[0;34m\"\"\"Schedule a func to be run\"\"\"\u001b[0m\u001b[0;34m\u001b[0m\u001b[0;34m\u001b[0m\u001b[0m\n\u001b[0;32m--> 182\u001b[0;31m         \u001b[0mresult\u001b[0m \u001b[0;34m=\u001b[0m \u001b[0mImmediateResult\u001b[0m\u001b[0;34m(\u001b[0m\u001b[0mfunc\u001b[0m\u001b[0;34m)\u001b[0m\u001b[0;34m\u001b[0m\u001b[0;34m\u001b[0m\u001b[0m\n\u001b[0m\u001b[1;32m    183\u001b[0m         \u001b[0;32mif\u001b[0m \u001b[0mcallback\u001b[0m\u001b[0;34m:\u001b[0m\u001b[0;34m\u001b[0m\u001b[0;34m\u001b[0m\u001b[0m\n\u001b[1;32m    184\u001b[0m             \u001b[0mcallback\u001b[0m\u001b[0;34m(\u001b[0m\u001b[0mresult\u001b[0m\u001b[0;34m)\u001b[0m\u001b[0;34m\u001b[0m\u001b[0;34m\u001b[0m\u001b[0m\n",
      "\u001b[0;32m~/anaconda3/lib/python3.7/site-packages/joblib/_parallel_backends.py\u001b[0m in \u001b[0;36m__init__\u001b[0;34m(self, batch)\u001b[0m\n\u001b[1;32m    547\u001b[0m         \u001b[0;31m# Don't delay the application, to avoid keeping the input\u001b[0m\u001b[0;34m\u001b[0m\u001b[0;34m\u001b[0m\u001b[0;34m\u001b[0m\u001b[0m\n\u001b[1;32m    548\u001b[0m         \u001b[0;31m# arguments in memory\u001b[0m\u001b[0;34m\u001b[0m\u001b[0;34m\u001b[0m\u001b[0;34m\u001b[0m\u001b[0m\n\u001b[0;32m--> 549\u001b[0;31m         \u001b[0mself\u001b[0m\u001b[0;34m.\u001b[0m\u001b[0mresults\u001b[0m \u001b[0;34m=\u001b[0m \u001b[0mbatch\u001b[0m\u001b[0;34m(\u001b[0m\u001b[0;34m)\u001b[0m\u001b[0;34m\u001b[0m\u001b[0;34m\u001b[0m\u001b[0m\n\u001b[0m\u001b[1;32m    550\u001b[0m \u001b[0;34m\u001b[0m\u001b[0m\n\u001b[1;32m    551\u001b[0m     \u001b[0;32mdef\u001b[0m \u001b[0mget\u001b[0m\u001b[0;34m(\u001b[0m\u001b[0mself\u001b[0m\u001b[0;34m)\u001b[0m\u001b[0;34m:\u001b[0m\u001b[0;34m\u001b[0m\u001b[0;34m\u001b[0m\u001b[0m\n",
      "\u001b[0;32m~/anaconda3/lib/python3.7/site-packages/joblib/parallel.py\u001b[0m in \u001b[0;36m__call__\u001b[0;34m(self)\u001b[0m\n\u001b[1;32m    223\u001b[0m         \u001b[0;32mwith\u001b[0m \u001b[0mparallel_backend\u001b[0m\u001b[0;34m(\u001b[0m\u001b[0mself\u001b[0m\u001b[0;34m.\u001b[0m\u001b[0m_backend\u001b[0m\u001b[0;34m,\u001b[0m \u001b[0mn_jobs\u001b[0m\u001b[0;34m=\u001b[0m\u001b[0mself\u001b[0m\u001b[0;34m.\u001b[0m\u001b[0m_n_jobs\u001b[0m\u001b[0;34m)\u001b[0m\u001b[0;34m:\u001b[0m\u001b[0;34m\u001b[0m\u001b[0;34m\u001b[0m\u001b[0m\n\u001b[1;32m    224\u001b[0m             return [func(*args, **kwargs)\n\u001b[0;32m--> 225\u001b[0;31m                     for func, args, kwargs in self.items]\n\u001b[0m\u001b[1;32m    226\u001b[0m \u001b[0;34m\u001b[0m\u001b[0m\n\u001b[1;32m    227\u001b[0m     \u001b[0;32mdef\u001b[0m \u001b[0m__len__\u001b[0m\u001b[0;34m(\u001b[0m\u001b[0mself\u001b[0m\u001b[0;34m)\u001b[0m\u001b[0;34m:\u001b[0m\u001b[0;34m\u001b[0m\u001b[0;34m\u001b[0m\u001b[0m\n",
      "\u001b[0;32m~/anaconda3/lib/python3.7/site-packages/joblib/parallel.py\u001b[0m in \u001b[0;36m<listcomp>\u001b[0;34m(.0)\u001b[0m\n\u001b[1;32m    223\u001b[0m         \u001b[0;32mwith\u001b[0m \u001b[0mparallel_backend\u001b[0m\u001b[0;34m(\u001b[0m\u001b[0mself\u001b[0m\u001b[0;34m.\u001b[0m\u001b[0m_backend\u001b[0m\u001b[0;34m,\u001b[0m \u001b[0mn_jobs\u001b[0m\u001b[0;34m=\u001b[0m\u001b[0mself\u001b[0m\u001b[0;34m.\u001b[0m\u001b[0m_n_jobs\u001b[0m\u001b[0;34m)\u001b[0m\u001b[0;34m:\u001b[0m\u001b[0;34m\u001b[0m\u001b[0;34m\u001b[0m\u001b[0m\n\u001b[1;32m    224\u001b[0m             return [func(*args, **kwargs)\n\u001b[0;32m--> 225\u001b[0;31m                     for func, args, kwargs in self.items]\n\u001b[0m\u001b[1;32m    226\u001b[0m \u001b[0;34m\u001b[0m\u001b[0m\n\u001b[1;32m    227\u001b[0m     \u001b[0;32mdef\u001b[0m \u001b[0m__len__\u001b[0m\u001b[0;34m(\u001b[0m\u001b[0mself\u001b[0m\u001b[0;34m)\u001b[0m\u001b[0;34m:\u001b[0m\u001b[0;34m\u001b[0m\u001b[0;34m\u001b[0m\u001b[0m\n",
      "\u001b[0;32m~/anaconda3/lib/python3.7/site-packages/sklearn/ensemble/_forest.py\u001b[0m in \u001b[0;36m_parallel_build_trees\u001b[0;34m(tree, forest, X, y, sample_weight, tree_idx, n_trees, verbose, class_weight, n_samples_bootstrap)\u001b[0m\n\u001b[1;32m    163\u001b[0m             \u001b[0mcurr_sample_weight\u001b[0m \u001b[0;34m*=\u001b[0m \u001b[0mcompute_sample_weight\u001b[0m\u001b[0;34m(\u001b[0m\u001b[0;34m'balanced'\u001b[0m\u001b[0;34m,\u001b[0m \u001b[0my\u001b[0m\u001b[0;34m,\u001b[0m \u001b[0mindices\u001b[0m\u001b[0;34m)\u001b[0m\u001b[0;34m\u001b[0m\u001b[0;34m\u001b[0m\u001b[0m\n\u001b[1;32m    164\u001b[0m \u001b[0;34m\u001b[0m\u001b[0m\n\u001b[0;32m--> 165\u001b[0;31m         \u001b[0mtree\u001b[0m\u001b[0;34m.\u001b[0m\u001b[0mfit\u001b[0m\u001b[0;34m(\u001b[0m\u001b[0mX\u001b[0m\u001b[0;34m,\u001b[0m \u001b[0my\u001b[0m\u001b[0;34m,\u001b[0m \u001b[0msample_weight\u001b[0m\u001b[0;34m=\u001b[0m\u001b[0mcurr_sample_weight\u001b[0m\u001b[0;34m,\u001b[0m \u001b[0mcheck_input\u001b[0m\u001b[0;34m=\u001b[0m\u001b[0;32mFalse\u001b[0m\u001b[0;34m)\u001b[0m\u001b[0;34m\u001b[0m\u001b[0;34m\u001b[0m\u001b[0m\n\u001b[0m\u001b[1;32m    166\u001b[0m     \u001b[0;32melse\u001b[0m\u001b[0;34m:\u001b[0m\u001b[0;34m\u001b[0m\u001b[0;34m\u001b[0m\u001b[0m\n\u001b[1;32m    167\u001b[0m         \u001b[0mtree\u001b[0m\u001b[0;34m.\u001b[0m\u001b[0mfit\u001b[0m\u001b[0;34m(\u001b[0m\u001b[0mX\u001b[0m\u001b[0;34m,\u001b[0m \u001b[0my\u001b[0m\u001b[0;34m,\u001b[0m \u001b[0msample_weight\u001b[0m\u001b[0;34m=\u001b[0m\u001b[0msample_weight\u001b[0m\u001b[0;34m,\u001b[0m \u001b[0mcheck_input\u001b[0m\u001b[0;34m=\u001b[0m\u001b[0;32mFalse\u001b[0m\u001b[0;34m)\u001b[0m\u001b[0;34m\u001b[0m\u001b[0;34m\u001b[0m\u001b[0m\n",
      "\u001b[0;32m~/anaconda3/lib/python3.7/site-packages/sklearn/tree/_classes.py\u001b[0m in \u001b[0;36mfit\u001b[0;34m(self, X, y, sample_weight, check_input, X_idx_sorted)\u001b[0m\n\u001b[1;32m   1224\u001b[0m             \u001b[0msample_weight\u001b[0m\u001b[0;34m=\u001b[0m\u001b[0msample_weight\u001b[0m\u001b[0;34m,\u001b[0m\u001b[0;34m\u001b[0m\u001b[0;34m\u001b[0m\u001b[0m\n\u001b[1;32m   1225\u001b[0m             \u001b[0mcheck_input\u001b[0m\u001b[0;34m=\u001b[0m\u001b[0mcheck_input\u001b[0m\u001b[0;34m,\u001b[0m\u001b[0;34m\u001b[0m\u001b[0;34m\u001b[0m\u001b[0m\n\u001b[0;32m-> 1226\u001b[0;31m             X_idx_sorted=X_idx_sorted)\n\u001b[0m\u001b[1;32m   1227\u001b[0m         \u001b[0;32mreturn\u001b[0m \u001b[0mself\u001b[0m\u001b[0;34m\u001b[0m\u001b[0;34m\u001b[0m\u001b[0m\n\u001b[1;32m   1228\u001b[0m \u001b[0;34m\u001b[0m\u001b[0m\n",
      "\u001b[0;32m~/anaconda3/lib/python3.7/site-packages/sklearn/tree/_classes.py\u001b[0m in \u001b[0;36mfit\u001b[0;34m(self, X, y, sample_weight, check_input, X_idx_sorted)\u001b[0m\n\u001b[1;32m    269\u001b[0m             \u001b[0;32mraise\u001b[0m \u001b[0mValueError\u001b[0m\u001b[0;34m(\u001b[0m\u001b[0;34m\"max_depth must be greater than zero. \"\u001b[0m\u001b[0;34m)\u001b[0m\u001b[0;34m\u001b[0m\u001b[0;34m\u001b[0m\u001b[0m\n\u001b[1;32m    270\u001b[0m         \u001b[0;32mif\u001b[0m \u001b[0;32mnot\u001b[0m \u001b[0;34m(\u001b[0m\u001b[0;36m0\u001b[0m \u001b[0;34m<\u001b[0m \u001b[0mmax_features\u001b[0m \u001b[0;34m<=\u001b[0m \u001b[0mself\u001b[0m\u001b[0;34m.\u001b[0m\u001b[0mn_features_\u001b[0m\u001b[0;34m)\u001b[0m\u001b[0;34m:\u001b[0m\u001b[0;34m\u001b[0m\u001b[0;34m\u001b[0m\u001b[0m\n\u001b[0;32m--> 271\u001b[0;31m             \u001b[0;32mraise\u001b[0m \u001b[0mValueError\u001b[0m\u001b[0;34m(\u001b[0m\u001b[0;34m\"max_features must be in (0, n_features]\"\u001b[0m\u001b[0;34m)\u001b[0m\u001b[0;34m\u001b[0m\u001b[0;34m\u001b[0m\u001b[0m\n\u001b[0m\u001b[1;32m    272\u001b[0m         \u001b[0;32mif\u001b[0m \u001b[0;32mnot\u001b[0m \u001b[0misinstance\u001b[0m\u001b[0;34m(\u001b[0m\u001b[0mmax_leaf_nodes\u001b[0m\u001b[0;34m,\u001b[0m \u001b[0mnumbers\u001b[0m\u001b[0;34m.\u001b[0m\u001b[0mIntegral\u001b[0m\u001b[0;34m)\u001b[0m\u001b[0;34m:\u001b[0m\u001b[0;34m\u001b[0m\u001b[0;34m\u001b[0m\u001b[0m\n\u001b[1;32m    273\u001b[0m             raise ValueError(\"max_leaf_nodes must be integral number but was \"\n",
      "\u001b[0;31mValueError\u001b[0m: max_features must be in (0, n_features]"
     ]
    }
   ],
   "source": [
    "rf = RandomForestRegressor(n_estimators=100, max_features=12)\n",
    "rf.fit(X_train, y_train)\n",
    "\n",
    "median_absolute_error(y_test, rf.predict(X_test))"
   ]
  },
  {
   "cell_type": "code",
   "execution_count": 64,
   "metadata": {},
   "outputs": [
    {
     "data": {
      "text/plain": [
       "GridSearchCV(cv=3, error_score=nan,\n",
       "             estimator=Pipeline(memory=None,\n",
       "                                steps=[('imputer',\n",
       "                                        SimpleImputer(add_indicator=False,\n",
       "                                                      copy=True,\n",
       "                                                      fill_value=None,\n",
       "                                                      missing_values=nan,\n",
       "                                                      strategy='mean',\n",
       "                                                      verbose=0)),\n",
       "                                       ('forest',\n",
       "                                        RandomForestRegressor(bootstrap=True,\n",
       "                                                              ccp_alpha=0.0,\n",
       "                                                              criterion='mse',\n",
       "                                                              max_depth=None,\n",
       "                                                              max_features='auto',\n",
       "                                                              max_leaf_nodes=None,\n",
       "                                                              max_samples=None,\n",
       "                                                              min_impurit...\n",
       "                                                              min_samples_split=2,\n",
       "                                                              min_weight_fraction_leaf=0.0,\n",
       "                                                              n_estimators=100,\n",
       "                                                              n_jobs=None,\n",
       "                                                              oob_score=False,\n",
       "                                                              random_state=None,\n",
       "                                                              verbose=0,\n",
       "                                                              warm_start=False))],\n",
       "                                verbose=False),\n",
       "             iid='deprecated', n_jobs=None,\n",
       "             param_grid={'forest__max_features': array([ 5,  6,  7,  8,  9, 10, 11])},\n",
       "             pre_dispatch='2*n_jobs', refit=True, return_train_score=False,\n",
       "             scoring='neg_median_absolute_error', verbose=0)"
      ]
     },
     "execution_count": 64,
     "metadata": {},
     "output_type": "execute_result"
    }
   ],
   "source": [
    "from sklearn.ensemble import RandomForestRegressor\n",
    "\n",
    "np.random.seed(42)\n",
    "\n",
    "forest_pipeline = Pipeline([\n",
    "    ('imputer', SimpleImputer(strategy='mean')),\n",
    "    ('forest', RandomForestRegressor(n_estimators=100))\n",
    "])\n",
    "\n",
    "forest_selector = GridSearchCV(\n",
    "    forest_pipeline,\n",
    "    param_grid = {\n",
    "        'forest__max_features': np.arange(5, 12)\n",
    "    },\n",
    "    scoring='neg_median_absolute_error',\n",
    "    cv=3\n",
    ")\n",
    "    \n",
    "forest_selector.fit(X_train, y_train)"
   ]
  },
  {
   "cell_type": "code",
   "execution_count": 65,
   "metadata": {},
   "outputs": [
    {
     "name": "stdout",
     "output_type": "stream",
     "text": [
      "{'forest__max_features': 8}\n"
     ]
    }
   ],
   "source": [
    "print(forest_selector.best_params_)\n",
    "best_forest = forest_selector.best_estimator_"
   ]
  },
  {
   "cell_type": "code",
   "execution_count": 67,
   "metadata": {},
   "outputs": [
    {
     "name": "stdout",
     "output_type": "stream",
     "text": [
      "[Random Forest] MedAE = 0.61\n"
     ]
    }
   ],
   "source": [
    "best_forest_preds = best_forest.predict(X_test)\n",
    "best_forest_medae = median_absolute_error(y_test, best_forest_preds)\n",
    "\n",
    "print(\"[Random Forest] MedAE = {:.2f}\".format(best_forest_medae))"
   ]
  },
  {
   "cell_type": "code",
   "execution_count": 69,
   "metadata": {},
   "outputs": [
    {
     "name": "stdout",
     "output_type": "stream",
     "text": [
      "[Random Forest] Variance = 1.52\n"
     ]
    }
   ],
   "source": [
    "from utils import estimate_forest_variance\n",
    "\n",
    "np.random.seed(42)\n",
    "\n",
    "best_forest_variance = estimate_forest_variance(\n",
    "    X_train, y_train, max_features=8\n",
    ")\n",
    "\n",
    "print(\"[Random Forest] Variance = {:.2f}\".format(best_forest_variance))"
   ]
  },
  {
   "cell_type": "code",
   "execution_count": 48,
   "metadata": {},
   "outputs": [
    {
     "data": {
      "text/plain": [
       "RandomForestRegressor(bootstrap=True, ccp_alpha=0.0, criterion='mse',\n",
       "                      max_depth=None, max_features='auto', max_leaf_nodes=None,\n",
       "                      max_samples=None, min_impurity_decrease=0.0,\n",
       "                      min_impurity_split=None, min_samples_leaf=1,\n",
       "                      min_samples_split=2, min_weight_fraction_leaf=0.0,\n",
       "                      n_estimators=500, n_jobs=None, oob_score=False,\n",
       "                      random_state=None, verbose=0, warm_start=False)"
      ]
     },
     "execution_count": 48,
     "metadata": {},
     "output_type": "execute_result"
    }
   ],
   "source": [
    "rf_fixed = RandomForestRegressor(n_estimators=500)\n",
    "rf_fixed.fit(X_train, y_train)"
   ]
  },
  {
   "cell_type": "code",
   "execution_count": 49,
   "metadata": {},
   "outputs": [
    {
     "data": {
      "text/plain": [
       "0.646240000000009"
      ]
     },
     "execution_count": 49,
     "metadata": {},
     "output_type": "execute_result"
    }
   ],
   "source": [
    "ys_preds = rf_fixed.predict(X_test)\n",
    "median_absolute_error(y_test, ys_preds)"
   ]
  },
  {
   "cell_type": "code",
   "execution_count": 3,
   "metadata": {},
   "outputs": [
    {
     "name": "stdout",
     "output_type": "stream",
     "text": [
      "[6 3 7 4 6 9 2 6 7 4]\n",
      "[0 0 1 1 2 0 3 2 0 1]\n",
      "[0. 0. 1. 1. 2. 0. 3. 2. 0. 1.]\n"
     ]
    }
   ],
   "source": [
    "import numpy as np\n",
    "\n",
    "np.random.seed(42)\n",
    "\n",
    "n_samples = 10\n",
    "weights = np.ones((n_samples,), dtype=np.float64)\n",
    "\n",
    "sampled_indecies = np.random.randint(0, n_samples, n_samples)\n",
    "print(sampled_indecies)\n",
    "samples_counts = np.bincount(sampled_indecies, minlength=n_samples)\n",
    "print(samples_counts)\n",
    "\n",
    "weights *= samples_counts\n",
    "print(weights)"
   ]
  },
  {
   "cell_type": "code",
   "execution_count": null,
   "metadata": {},
   "outputs": [],
   "source": []
  }
 ],
 "metadata": {
  "kernelspec": {
   "display_name": "Python 3",
   "language": "python",
   "name": "python3"
  },
  "language_info": {
   "codemirror_mode": {
    "name": "ipython",
    "version": 3
   },
   "file_extension": ".py",
   "mimetype": "text/x-python",
   "name": "python",
   "nbconvert_exporter": "python",
   "pygments_lexer": "ipython3",
   "version": "3.7.3"
  }
 },
 "nbformat": 4,
 "nbformat_minor": 2
}
