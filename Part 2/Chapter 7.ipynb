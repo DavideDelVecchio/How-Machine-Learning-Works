{
 "cells": [
  {
   "cell_type": "markdown",
   "metadata": {},
   "source": [
    "# Chapter 7\n",
    "# Decision Trees\n",
    "## 7.1 Predicting the Price of a Used Car\n",
    "### 7.1.2 How to Build a Decision Tree\n",
    "\n",
    "To understand how decision trees are built, let's l the dataset behind the tree in figure 7-5 is the `12-cars.csv` dataset:"
   ]
  },
  {
   "cell_type": "code",
   "execution_count": 1,
   "metadata": {},
   "outputs": [
    {
     "data": {
      "text/html": [
       "<div>\n",
       "<style scoped>\n",
       "    .dataframe tbody tr th:only-of-type {\n",
       "        vertical-align: middle;\n",
       "    }\n",
       "\n",
       "    .dataframe tbody tr th {\n",
       "        vertical-align: top;\n",
       "    }\n",
       "\n",
       "    .dataframe thead th {\n",
       "        text-align: right;\n",
       "    }\n",
       "</style>\n",
       "<table border=\"1\" class=\"dataframe\">\n",
       "  <thead>\n",
       "    <tr style=\"text-align: right;\">\n",
       "      <th></th>\n",
       "      <th>Year</th>\n",
       "      <th>Engine</th>\n",
       "      <th>Power</th>\n",
       "      <th>Price</th>\n",
       "    </tr>\n",
       "  </thead>\n",
       "  <tbody>\n",
       "    <tr>\n",
       "      <th>0</th>\n",
       "      <td>2003</td>\n",
       "      <td>1700</td>\n",
       "      <td>80</td>\n",
       "      <td>185</td>\n",
       "    </tr>\n",
       "    <tr>\n",
       "      <th>1</th>\n",
       "      <td>2005</td>\n",
       "      <td>1500</td>\n",
       "      <td>73</td>\n",
       "      <td>160</td>\n",
       "    </tr>\n",
       "    <tr>\n",
       "      <th>2</th>\n",
       "      <td>2008</td>\n",
       "      <td>1800</td>\n",
       "      <td>84</td>\n",
       "      <td>195</td>\n",
       "    </tr>\n",
       "    <tr>\n",
       "      <th>3</th>\n",
       "      <td>2009</td>\n",
       "      <td>1200</td>\n",
       "      <td>61</td>\n",
       "      <td>252</td>\n",
       "    </tr>\n",
       "    <tr>\n",
       "      <th>4</th>\n",
       "      <td>2010</td>\n",
       "      <td>1100</td>\n",
       "      <td>87</td>\n",
       "      <td>237</td>\n",
       "    </tr>\n",
       "    <tr>\n",
       "      <th>5</th>\n",
       "      <td>2016</td>\n",
       "      <td>1500</td>\n",
       "      <td>83</td>\n",
       "      <td>261</td>\n",
       "    </tr>\n",
       "    <tr>\n",
       "      <th>6</th>\n",
       "      <td>2012</td>\n",
       "      <td>1800</td>\n",
       "      <td>63</td>\n",
       "      <td>312</td>\n",
       "    </tr>\n",
       "    <tr>\n",
       "      <th>7</th>\n",
       "      <td>2011</td>\n",
       "      <td>1750</td>\n",
       "      <td>67</td>\n",
       "      <td>280</td>\n",
       "    </tr>\n",
       "    <tr>\n",
       "      <th>8</th>\n",
       "      <td>2010</td>\n",
       "      <td>1900</td>\n",
       "      <td>75</td>\n",
       "      <td>308</td>\n",
       "    </tr>\n",
       "    <tr>\n",
       "      <th>9</th>\n",
       "      <td>2009</td>\n",
       "      <td>1800</td>\n",
       "      <td>83</td>\n",
       "      <td>410</td>\n",
       "    </tr>\n",
       "    <tr>\n",
       "      <th>10</th>\n",
       "      <td>2015</td>\n",
       "      <td>1650</td>\n",
       "      <td>89</td>\n",
       "      <td>446</td>\n",
       "    </tr>\n",
       "    <tr>\n",
       "      <th>11</th>\n",
       "      <td>2014</td>\n",
       "      <td>1670</td>\n",
       "      <td>87</td>\n",
       "      <td>500</td>\n",
       "    </tr>\n",
       "  </tbody>\n",
       "</table>\n",
       "</div>"
      ],
      "text/plain": [
       "    Year  Engine  Power  Price\n",
       "0   2003    1700     80    185\n",
       "1   2005    1500     73    160\n",
       "2   2008    1800     84    195\n",
       "3   2009    1200     61    252\n",
       "4   2010    1100     87    237\n",
       "5   2016    1500     83    261\n",
       "6   2012    1800     63    312\n",
       "7   2011    1750     67    280\n",
       "8   2010    1900     75    308\n",
       "9   2009    1800     83    410\n",
       "10  2015    1650     89    446\n",
       "11  2014    1670     87    500"
      ]
     },
     "execution_count": 1,
     "metadata": {},
     "output_type": "execute_result"
    }
   ],
   "source": [
    "import pandas as pd\n",
    "%matplotlib inline\n",
    "\n",
    "cars_12 = pd.read_csv('../datasets/12-cars.csv', index_col=0)\n",
    "cars_12"
   ]
  },
  {
   "cell_type": "markdown",
   "metadata": {},
   "source": [
    "### 7.1.3 Coding a Primative Decision Tree\n",
    "\n",
    "Decisions trees are built by recursively splitting regions of sapce into two sub-regions in order to minimize the mean squared error (MSE) across the training data. In each split, we choose the best pair of (feature, value) that would yeild the minimal MSE. We call this pair a **_pivot_**. To write a simple code that can apply this procedure and build us a decision tree on the 12-cars dataset, we first need to define the `Node` class which be the data structure holding the tree. "
   ]
  },
  {
   "cell_type": "code",
   "execution_count": 2,
   "metadata": {},
   "outputs": [],
   "source": [
    "class Node:\n",
    "    \n",
    "    def __init__(self, is_leaf=False, pivot=None):\n",
    "        self.is_leaf = is_leaf\n",
    "        self.pivot = pivot\n",
    "        \n",
    "    def attach_children(self, left, right):\n",
    "        self.left_child = left\n",
    "        self.right_child = right\n",
    "        \n",
    "    def attach_leaf_value(self, mean_value):\n",
    "        self.leaf_value = mean_value\n",
    "        \n",
    "    def traverse(self, x):\n",
    "        if not self.is_leaf:\n",
    "            feature_indx, value = self.pivot\n",
    "            if x[feature_indx] <= value:\n",
    "                return self.left_child.traverse(x)\n",
    "            else:\n",
    "                return self.right_child.traverse(x)\n",
    "        else:\n",
    "            return self.leaf_value"
   ]
  },
  {
   "cell_type": "markdown",
   "metadata": {},
   "source": [
    "The `Node` class represents a node in the decision tree, with left and right child nodes attached if the node is not a leaf node. With these properties, the root node object would represent the whole decision tree as it has links to all the child nodes underneath it. The `traverse` method allow us to travel down the tree with a given data point: on each decision node, comparison against the pivot is made to determine to which child shall we traverse next, until we reach a leaf node where we'll return the attached mean value of the labels in that leaf node region.\n",
    "\n",
    "Next, we need to use the `Node` class in order to build the whole tree. We do so by defining a class called `PrimitiveDecisionTreeRegressor` that will hold our tree-building code. The two main method in that class are the `get_best_pivot` and the `split` methods. `get_best_pivot` enumerates all the possible values for each feature calculates the splitting MSE for each splitting option, the option with the smallest MSE is returned. The `split` method uses the `get_best_pivot` method to recursively split regions into two sub-regions until we hit the stopping criteria. "
   ]
  },
  {
   "cell_type": "code",
   "execution_count": 3,
   "metadata": {},
   "outputs": [],
   "source": [
    "import numpy as np\n",
    "\n",
    "def mse(y_true, y_pred):\n",
    "    # Calculating the mean square error (MSE)\n",
    "    return np.mean((y_true - y_pred) ** 2)\n",
    "\n",
    "class PrimitiveDecisionTreeRegressor:\n",
    "    \n",
    "    def __init__(self, stop_at=3):\n",
    "        self.stop_at = stop_at\n",
    "        self.tree = None\n",
    "        \n",
    "    def get_best_pivot(self, region_X, region_y):\n",
    "        \n",
    "        samples_count, features_count = region_X.shape\n",
    "        \n",
    "        # record each feature index with its possible values in a dictionary\n",
    "        features_split_points = {}\n",
    "        for i in range(features_count):\n",
    "            features_split_points[i] = np.sort(region_X[:, i])\n",
    "        \n",
    "        # minimal mse is set to infinity at start\n",
    "        minimal_mse = np.inf \n",
    "        best_pivot = (None, None)\n",
    "        \n",
    "        # we loop over all pairs of (feature_index, value)\n",
    "        for i in range(features_count):\n",
    "            for value in features_split_points[i]:\n",
    "                \n",
    "                # we make use of boolean masks to get the samples in each subregion\n",
    "                left_region_mask = region_X[:, i] <= value\n",
    "                right_region_mask = ~left_region_mask\n",
    "                \n",
    "                # we check the number of samples in each subregion\n",
    "                # if it's lower than the stopping critreia, we omit that split\n",
    "                left_region_X = region_X[left_region_mask]\n",
    "                right_region_X = region_X[right_region_mask] \n",
    "                \n",
    "                if left_region_X.shape[0] < self.stop_at or \\\n",
    "                    right_region_X.shape[0] < self.stop_at:\n",
    "                    continue\n",
    "                \n",
    "                # we get the y values in each region and calculate the split MSE\n",
    "                left_region_y = region_y[left_region_mask]\n",
    "                right_region_y = region_y[right_region_mask]\n",
    "                \n",
    "                left_mse = mse(left_region_y, np.mean(left_region_y))\n",
    "                right_mse = mse(right_region_y, np.mean(right_region_y))\n",
    "                total_mse = left_mse + right_mse\n",
    "                \n",
    "                # if the split MSE is lower than the prvious best\n",
    "                # we set the current split as the best one\n",
    "                if total_mse < minimal_mse:\n",
    "                    minimal_mse = total_mse\n",
    "                    best_pivot = (i, value)\n",
    "                    \n",
    "        return best_pivot\n",
    "        \n",
    "        \n",
    "    def split(self, region_X, region_y, level=1):\n",
    "        \n",
    "        samples_count, _ = region_X.shape\n",
    "        \n",
    "        # if the samples count in the region to split meets\n",
    "        # the stopping criteria, stop recursion and return a leaf node\n",
    "        if samples_count <= self.stop_at:\n",
    "            leaf_node = Node(is_leaf=True)\n",
    "            leaf_node.attach_leaf_value(np.mean(region_y))\n",
    "            return leaf_node\n",
    "    \n",
    "        # get the best pivot at this step and craete a decision node            \n",
    "        split_feature, split_value = self.get_best_pivot(region_X, region_y)\n",
    "        current_node = Node(pivot=(split_feature, split_value))\n",
    "        \n",
    "        \n",
    "        print(\"{}Split on feature {} at {}\".format(\n",
    "            ''.join(['\\t'] * level), \n",
    "            split_feature, \n",
    "            split_value)\n",
    "        )\n",
    "        \n",
    "        left_region_mask = region_X[:, split_feature] <= split_value\n",
    "        right_region_mask = ~left_region_mask\n",
    "        \n",
    "        # recursivly split the left subregion and get its root node\n",
    "        print(\"{}Left Region:\".format(''.join(['\\t'] * level)))\n",
    "        left_region_X = region_X[left_region_mask]\n",
    "        left_region_y = region_y[left_region_mask]\n",
    "        left_child = self.split(left_region_X, left_region_y, level + 1)\n",
    "        \n",
    "        # recursivly split the right subregion and get its root node\n",
    "        print(\"{}Right Region:\".format(''.join(['\\t'] * level)))\n",
    "        right_region_X = region_X[right_region_mask]\n",
    "        right_region_y = region_y[right_region_mask]\n",
    "        right_child = self.split(right_region_X, right_region_y, level + 1)\n",
    "        \n",
    "        # attach the left and right subregions to the decision node\n",
    "        current_node.attach_children(left_child, right_child)\n",
    "        \n",
    "        return current_node\n",
    "    \n",
    "    def fit(self, X, y):\n",
    "        self.tree = self.split(X, y)\n",
    "        \n",
    "    def predict(self, x):\n",
    "        return self.tree.traverse(x)"
   ]
  },
  {
   "cell_type": "markdown",
   "metadata": {},
   "source": [
    "With this implementation, we're ready to train a decision tree on the 12-cars data we have. We made the implementation following the `scikit-learn` convention of fit/predict for consistency, we also added print statments that would layout how the tree is built to see if the splits matches the one we assumed true while we're visually building the tree in figure 7-8. Fitting the model would show us that the spilts are indeed correct."
   ]
  },
  {
   "cell_type": "code",
   "execution_count": 4,
   "metadata": {},
   "outputs": [
    {
     "name": "stdout",
     "output_type": "stream",
     "text": [
      "\tSplit on feature 0 at 2008\n",
      "\tLeft Region:\n",
      "\tRight Region:\n",
      "\t\tSplit on feature 1 at 1500\n",
      "\t\tLeft Region:\n",
      "\t\tRight Region:\n",
      "\t\t\tSplit on feature 2 at 75\n",
      "\t\t\tLeft Region:\n",
      "\t\t\tRight Region:\n"
     ]
    }
   ],
   "source": [
    "X_train = cars_12.loc[:, \"Year\":\"Power\"].to_numpy()\n",
    "y_train = cars_12.loc[:, \"Price\"].to_numpy()\n",
    "\n",
    "primitive_dt = PrimitiveDecisionTreeRegressor()\n",
    "primitive_dt.fit(X_train, y_train)"
   ]
  },
  {
   "cell_type": "markdown",
   "metadata": {},
   "source": [
    "And if we ran our testing example through the `predict` example, we would get the prediction of 300K as we stated before."
   ]
  },
  {
   "cell_type": "code",
   "execution_count": 5,
   "metadata": {},
   "outputs": [
    {
     "data": {
      "text/plain": [
       "300.0"
      ]
     },
     "execution_count": 5,
     "metadata": {},
     "output_type": "execute_result"
    }
   ],
   "source": [
    "x_test = np.array([2012, 1600, 73])\n",
    "\n",
    "primitive_dt.predict(x_test)"
   ]
  },
  {
   "cell_type": "markdown",
   "metadata": {},
   "source": [
    "## 7.2 Building Decision Trees with scikit-learn\n",
    "We start building a solution to the used cars price prediction problem by taking a look at the dataset we're going to work on. We begin by loading the training set and the held out tests set."
   ]
  },
  {
   "cell_type": "code",
   "execution_count": 6,
   "metadata": {
    "scrolled": true
   },
   "outputs": [
    {
     "data": {
      "text/html": [
       "<div>\n",
       "<style scoped>\n",
       "    .dataframe tbody tr th:only-of-type {\n",
       "        vertical-align: middle;\n",
       "    }\n",
       "\n",
       "    .dataframe tbody tr th {\n",
       "        vertical-align: top;\n",
       "    }\n",
       "\n",
       "    .dataframe thead th {\n",
       "        text-align: right;\n",
       "    }\n",
       "</style>\n",
       "<table border=\"1\" class=\"dataframe\">\n",
       "  <thead>\n",
       "    <tr style=\"text-align: right;\">\n",
       "      <th></th>\n",
       "      <th>Unnamed: 0</th>\n",
       "      <th>Name</th>\n",
       "      <th>Location</th>\n",
       "      <th>Year</th>\n",
       "      <th>Kilometers_Driven</th>\n",
       "      <th>Fuel_Type</th>\n",
       "      <th>Transmission</th>\n",
       "      <th>Owner_Type</th>\n",
       "      <th>Mileage</th>\n",
       "      <th>Engine</th>\n",
       "      <th>Power</th>\n",
       "      <th>Seats</th>\n",
       "      <th>New_Price</th>\n",
       "      <th>Price</th>\n",
       "    </tr>\n",
       "  </thead>\n",
       "  <tbody>\n",
       "    <tr>\n",
       "      <th>4235</th>\n",
       "      <td>3191</td>\n",
       "      <td>Mercedes-Benz A Class A180 CDI</td>\n",
       "      <td>Pune</td>\n",
       "      <td>2015</td>\n",
       "      <td>48300</td>\n",
       "      <td>Diesel</td>\n",
       "      <td>Automatic</td>\n",
       "      <td>First</td>\n",
       "      <td>20.0 kmpl</td>\n",
       "      <td>2143 CC</td>\n",
       "      <td>107.3 bhp</td>\n",
       "      <td>5.0</td>\n",
       "      <td>NaN</td>\n",
       "      <td>17.50</td>\n",
       "    </tr>\n",
       "    <tr>\n",
       "      <th>798</th>\n",
       "      <td>5761</td>\n",
       "      <td>Audi Q7 3.0 TDI Quattro Premium Plus</td>\n",
       "      <td>Coimbatore</td>\n",
       "      <td>2015</td>\n",
       "      <td>55662</td>\n",
       "      <td>Diesel</td>\n",
       "      <td>Automatic</td>\n",
       "      <td>First</td>\n",
       "      <td>12.07 kmpl</td>\n",
       "      <td>2967 CC</td>\n",
       "      <td>241.4 bhp</td>\n",
       "      <td>7.0</td>\n",
       "      <td>NaN</td>\n",
       "      <td>42.83</td>\n",
       "    </tr>\n",
       "    <tr>\n",
       "      <th>2321</th>\n",
       "      <td>1811</td>\n",
       "      <td>Honda Accord 2.4 AT</td>\n",
       "      <td>Kochi</td>\n",
       "      <td>2011</td>\n",
       "      <td>62332</td>\n",
       "      <td>Petrol</td>\n",
       "      <td>Automatic</td>\n",
       "      <td>First</td>\n",
       "      <td>11.7 kmpl</td>\n",
       "      <td>2354 CC</td>\n",
       "      <td>177.6 bhp</td>\n",
       "      <td>5.0</td>\n",
       "      <td>NaN</td>\n",
       "      <td>5.89</td>\n",
       "    </tr>\n",
       "    <tr>\n",
       "      <th>3352</th>\n",
       "      <td>3335</td>\n",
       "      <td>Toyota Corolla Altis 2008-2013 1.8 VL AT</td>\n",
       "      <td>Mumbai</td>\n",
       "      <td>2010</td>\n",
       "      <td>63298</td>\n",
       "      <td>Petrol</td>\n",
       "      <td>Automatic</td>\n",
       "      <td>First</td>\n",
       "      <td>14.53 kmpl</td>\n",
       "      <td>1794 CC</td>\n",
       "      <td>138.1 bhp</td>\n",
       "      <td>5.0</td>\n",
       "      <td>NaN</td>\n",
       "      <td>3.95</td>\n",
       "    </tr>\n",
       "    <tr>\n",
       "      <th>2304</th>\n",
       "      <td>4712</td>\n",
       "      <td>Hyundai Santro Xing XG</td>\n",
       "      <td>Pune</td>\n",
       "      <td>2003</td>\n",
       "      <td>80000</td>\n",
       "      <td>Petrol</td>\n",
       "      <td>Manual</td>\n",
       "      <td>Second</td>\n",
       "      <td>17.0 kmpl</td>\n",
       "      <td>NaN</td>\n",
       "      <td>NaN</td>\n",
       "      <td>NaN</td>\n",
       "      <td>NaN</td>\n",
       "      <td>0.90</td>\n",
       "    </tr>\n",
       "    <tr>\n",
       "      <th>2554</th>\n",
       "      <td>3225</td>\n",
       "      <td>Honda City V AT</td>\n",
       "      <td>Coimbatore</td>\n",
       "      <td>2012</td>\n",
       "      <td>60908</td>\n",
       "      <td>Petrol</td>\n",
       "      <td>Automatic</td>\n",
       "      <td>Second</td>\n",
       "      <td>15.6 kmpl</td>\n",
       "      <td>1497 CC</td>\n",
       "      <td>116.3 bhp</td>\n",
       "      <td>5.0</td>\n",
       "      <td>NaN</td>\n",
       "      <td>6.42</td>\n",
       "    </tr>\n",
       "    <tr>\n",
       "      <th>1606</th>\n",
       "      <td>1233</td>\n",
       "      <td>Mercedes-Benz E-Class 2015-2017 E250 CDI Avant...</td>\n",
       "      <td>Kochi</td>\n",
       "      <td>2017</td>\n",
       "      <td>36884</td>\n",
       "      <td>Diesel</td>\n",
       "      <td>Automatic</td>\n",
       "      <td>First</td>\n",
       "      <td>13.0 kmpl</td>\n",
       "      <td>2143 CC</td>\n",
       "      <td>204 bhp</td>\n",
       "      <td>5.0</td>\n",
       "      <td>NaN</td>\n",
       "      <td>32.25</td>\n",
       "    </tr>\n",
       "    <tr>\n",
       "      <th>3876</th>\n",
       "      <td>4849</td>\n",
       "      <td>Honda City i DTEC V</td>\n",
       "      <td>Delhi</td>\n",
       "      <td>2014</td>\n",
       "      <td>66500</td>\n",
       "      <td>Diesel</td>\n",
       "      <td>Manual</td>\n",
       "      <td>First</td>\n",
       "      <td>26.0 kmpl</td>\n",
       "      <td>1498 CC</td>\n",
       "      <td>98.6 bhp</td>\n",
       "      <td>5.0</td>\n",
       "      <td>NaN</td>\n",
       "      <td>5.70</td>\n",
       "    </tr>\n",
       "    <tr>\n",
       "      <th>705</th>\n",
       "      <td>3123</td>\n",
       "      <td>Tata Manza Aqua Safire</td>\n",
       "      <td>Mumbai</td>\n",
       "      <td>2010</td>\n",
       "      <td>41195</td>\n",
       "      <td>Petrol</td>\n",
       "      <td>Manual</td>\n",
       "      <td>First</td>\n",
       "      <td>15.0 kmpl</td>\n",
       "      <td>1368 CC</td>\n",
       "      <td>90 bhp</td>\n",
       "      <td>5.0</td>\n",
       "      <td>NaN</td>\n",
       "      <td>1.38</td>\n",
       "    </tr>\n",
       "    <tr>\n",
       "      <th>3907</th>\n",
       "      <td>1191</td>\n",
       "      <td>Toyota Etios GD SP</td>\n",
       "      <td>Coimbatore</td>\n",
       "      <td>2016</td>\n",
       "      <td>53702</td>\n",
       "      <td>Diesel</td>\n",
       "      <td>Manual</td>\n",
       "      <td>First</td>\n",
       "      <td>23.59 kmpl</td>\n",
       "      <td>1364 CC</td>\n",
       "      <td>67.04 bhp</td>\n",
       "      <td>5.0</td>\n",
       "      <td>NaN</td>\n",
       "      <td>6.55</td>\n",
       "    </tr>\n",
       "  </tbody>\n",
       "</table>\n",
       "</div>"
      ],
      "text/plain": [
       "      Unnamed: 0                                               Name  \\\n",
       "4235        3191                     Mercedes-Benz A Class A180 CDI   \n",
       "798         5761               Audi Q7 3.0 TDI Quattro Premium Plus   \n",
       "2321        1811                                Honda Accord 2.4 AT   \n",
       "3352        3335           Toyota Corolla Altis 2008-2013 1.8 VL AT   \n",
       "2304        4712                             Hyundai Santro Xing XG   \n",
       "2554        3225                                    Honda City V AT   \n",
       "1606        1233  Mercedes-Benz E-Class 2015-2017 E250 CDI Avant...   \n",
       "3876        4849                                Honda City i DTEC V   \n",
       "705         3123                             Tata Manza Aqua Safire   \n",
       "3907        1191                                 Toyota Etios GD SP   \n",
       "\n",
       "        Location  Year  Kilometers_Driven Fuel_Type Transmission Owner_Type  \\\n",
       "4235        Pune  2015              48300    Diesel    Automatic      First   \n",
       "798   Coimbatore  2015              55662    Diesel    Automatic      First   \n",
       "2321       Kochi  2011              62332    Petrol    Automatic      First   \n",
       "3352      Mumbai  2010              63298    Petrol    Automatic      First   \n",
       "2304        Pune  2003              80000    Petrol       Manual     Second   \n",
       "2554  Coimbatore  2012              60908    Petrol    Automatic     Second   \n",
       "1606       Kochi  2017              36884    Diesel    Automatic      First   \n",
       "3876       Delhi  2014              66500    Diesel       Manual      First   \n",
       "705       Mumbai  2010              41195    Petrol       Manual      First   \n",
       "3907  Coimbatore  2016              53702    Diesel       Manual      First   \n",
       "\n",
       "         Mileage   Engine      Power  Seats New_Price  Price  \n",
       "4235   20.0 kmpl  2143 CC  107.3 bhp    5.0       NaN  17.50  \n",
       "798   12.07 kmpl  2967 CC  241.4 bhp    7.0       NaN  42.83  \n",
       "2321   11.7 kmpl  2354 CC  177.6 bhp    5.0       NaN   5.89  \n",
       "3352  14.53 kmpl  1794 CC  138.1 bhp    5.0       NaN   3.95  \n",
       "2304   17.0 kmpl      NaN        NaN    NaN       NaN   0.90  \n",
       "2554   15.6 kmpl  1497 CC  116.3 bhp    5.0       NaN   6.42  \n",
       "1606   13.0 kmpl  2143 CC    204 bhp    5.0       NaN  32.25  \n",
       "3876   26.0 kmpl  1498 CC   98.6 bhp    5.0       NaN   5.70  \n",
       "705    15.0 kmpl  1368 CC     90 bhp    5.0       NaN   1.38  \n",
       "3907  23.59 kmpl  1364 CC  67.04 bhp    5.0       NaN   6.55  "
      ]
     },
     "execution_count": 6,
     "metadata": {},
     "output_type": "execute_result"
    }
   ],
   "source": [
    "import pandas as pd\n",
    "\n",
    "train_data = pd.read_csv(\"../datasets/used-cars-train.csv\")\n",
    "test_data = pd.read_csv(\"../datasets/used-cars-test.csv\")\n",
    "\n",
    "train_data.sample(10, random_state=42)"
   ]
  },
  {
   "cell_type": "markdown",
   "metadata": {},
   "source": [
    "Our data sample shows two problems that needs to be fixed before we can move forward:\n",
    "\n",
    "1. The Mileage, Engine and Power data has their units attached to them, which makes `pandas` treat them a strings and hence categorical data. This data needs to be treated as numerical data.\n",
    "2. There is a lot of `NaN`s and `0`s in the numeric columns, which indicates missing data that needs to filled\n",
    "\n",
    "### 7.2.1 Preparing the Data\n",
    "\n",
    "We start first by stripping the units from the numeric values and casting the remaining string into floats. This can be simply done using the `apply` method which applies a given function on all the elements of a `DataFrame`/`Series` and returns the result in a new `DataFrame`/`Series`."
   ]
  },
  {
   "cell_type": "code",
   "execution_count": 7,
   "metadata": {},
   "outputs": [],
   "source": [
    "import numpy as np\n",
    "\n",
    "def strip_units(str_value):\n",
    "    \n",
    "    float_value = np.nan\n",
    "    \n",
    "    if str_value is not np.nan:\n",
    "        number_str, units = str_value.split()\n",
    "        try:\n",
    "            float_value = float(number_str)\n",
    "        except Exception:\n",
    "            pass\n",
    "    \n",
    "    return float_value\n",
    "\n",
    "\n",
    "def clean_dataframe(df):\n",
    "    \n",
    "    clean_data = df.copy(deep=True)\n",
    "    \n",
    "    clean_data.loc[:, 'Mileage'] = df.loc[:, 'Mileage'].apply(strip_units)\n",
    "    clean_data.loc[:, 'Engine'] = df.loc[:, 'Engine'].apply(strip_units)\n",
    "    clean_data.loc[:, 'Power'] = df.loc[:, 'Power'].apply(strip_units)\n",
    "    \n",
    "    return clean_data\n",
    "\n",
    "train_data_clean = clean_dataframe(train_data)\n",
    "test_data_clean = clean_dataframe(test_data)"
   ]
  },
  {
   "cell_type": "markdown",
   "metadata": {},
   "source": [
    "A simple call to `clean_data.sample(10, random_sample=42)` will reveal that the units were stripped from the numeric values."
   ]
  },
  {
   "cell_type": "code",
   "execution_count": 8,
   "metadata": {},
   "outputs": [
    {
     "data": {
      "text/html": [
       "<div>\n",
       "<style scoped>\n",
       "    .dataframe tbody tr th:only-of-type {\n",
       "        vertical-align: middle;\n",
       "    }\n",
       "\n",
       "    .dataframe tbody tr th {\n",
       "        vertical-align: top;\n",
       "    }\n",
       "\n",
       "    .dataframe thead th {\n",
       "        text-align: right;\n",
       "    }\n",
       "</style>\n",
       "<table border=\"1\" class=\"dataframe\">\n",
       "  <thead>\n",
       "    <tr style=\"text-align: right;\">\n",
       "      <th></th>\n",
       "      <th>Unnamed: 0</th>\n",
       "      <th>Name</th>\n",
       "      <th>Location</th>\n",
       "      <th>Year</th>\n",
       "      <th>Kilometers_Driven</th>\n",
       "      <th>Fuel_Type</th>\n",
       "      <th>Transmission</th>\n",
       "      <th>Owner_Type</th>\n",
       "      <th>Mileage</th>\n",
       "      <th>Engine</th>\n",
       "      <th>Power</th>\n",
       "      <th>Seats</th>\n",
       "      <th>New_Price</th>\n",
       "      <th>Price</th>\n",
       "    </tr>\n",
       "  </thead>\n",
       "  <tbody>\n",
       "    <tr>\n",
       "      <th>4235</th>\n",
       "      <td>3191</td>\n",
       "      <td>Mercedes-Benz A Class A180 CDI</td>\n",
       "      <td>Pune</td>\n",
       "      <td>2015</td>\n",
       "      <td>48300</td>\n",
       "      <td>Diesel</td>\n",
       "      <td>Automatic</td>\n",
       "      <td>First</td>\n",
       "      <td>20.00</td>\n",
       "      <td>2143.0</td>\n",
       "      <td>107.30</td>\n",
       "      <td>5.0</td>\n",
       "      <td>NaN</td>\n",
       "      <td>17.50</td>\n",
       "    </tr>\n",
       "    <tr>\n",
       "      <th>798</th>\n",
       "      <td>5761</td>\n",
       "      <td>Audi Q7 3.0 TDI Quattro Premium Plus</td>\n",
       "      <td>Coimbatore</td>\n",
       "      <td>2015</td>\n",
       "      <td>55662</td>\n",
       "      <td>Diesel</td>\n",
       "      <td>Automatic</td>\n",
       "      <td>First</td>\n",
       "      <td>12.07</td>\n",
       "      <td>2967.0</td>\n",
       "      <td>241.40</td>\n",
       "      <td>7.0</td>\n",
       "      <td>NaN</td>\n",
       "      <td>42.83</td>\n",
       "    </tr>\n",
       "    <tr>\n",
       "      <th>2321</th>\n",
       "      <td>1811</td>\n",
       "      <td>Honda Accord 2.4 AT</td>\n",
       "      <td>Kochi</td>\n",
       "      <td>2011</td>\n",
       "      <td>62332</td>\n",
       "      <td>Petrol</td>\n",
       "      <td>Automatic</td>\n",
       "      <td>First</td>\n",
       "      <td>11.70</td>\n",
       "      <td>2354.0</td>\n",
       "      <td>177.60</td>\n",
       "      <td>5.0</td>\n",
       "      <td>NaN</td>\n",
       "      <td>5.89</td>\n",
       "    </tr>\n",
       "    <tr>\n",
       "      <th>3352</th>\n",
       "      <td>3335</td>\n",
       "      <td>Toyota Corolla Altis 2008-2013 1.8 VL AT</td>\n",
       "      <td>Mumbai</td>\n",
       "      <td>2010</td>\n",
       "      <td>63298</td>\n",
       "      <td>Petrol</td>\n",
       "      <td>Automatic</td>\n",
       "      <td>First</td>\n",
       "      <td>14.53</td>\n",
       "      <td>1794.0</td>\n",
       "      <td>138.10</td>\n",
       "      <td>5.0</td>\n",
       "      <td>NaN</td>\n",
       "      <td>3.95</td>\n",
       "    </tr>\n",
       "    <tr>\n",
       "      <th>2304</th>\n",
       "      <td>4712</td>\n",
       "      <td>Hyundai Santro Xing XG</td>\n",
       "      <td>Pune</td>\n",
       "      <td>2003</td>\n",
       "      <td>80000</td>\n",
       "      <td>Petrol</td>\n",
       "      <td>Manual</td>\n",
       "      <td>Second</td>\n",
       "      <td>17.00</td>\n",
       "      <td>NaN</td>\n",
       "      <td>NaN</td>\n",
       "      <td>NaN</td>\n",
       "      <td>NaN</td>\n",
       "      <td>0.90</td>\n",
       "    </tr>\n",
       "    <tr>\n",
       "      <th>2554</th>\n",
       "      <td>3225</td>\n",
       "      <td>Honda City V AT</td>\n",
       "      <td>Coimbatore</td>\n",
       "      <td>2012</td>\n",
       "      <td>60908</td>\n",
       "      <td>Petrol</td>\n",
       "      <td>Automatic</td>\n",
       "      <td>Second</td>\n",
       "      <td>15.60</td>\n",
       "      <td>1497.0</td>\n",
       "      <td>116.30</td>\n",
       "      <td>5.0</td>\n",
       "      <td>NaN</td>\n",
       "      <td>6.42</td>\n",
       "    </tr>\n",
       "    <tr>\n",
       "      <th>1606</th>\n",
       "      <td>1233</td>\n",
       "      <td>Mercedes-Benz E-Class 2015-2017 E250 CDI Avant...</td>\n",
       "      <td>Kochi</td>\n",
       "      <td>2017</td>\n",
       "      <td>36884</td>\n",
       "      <td>Diesel</td>\n",
       "      <td>Automatic</td>\n",
       "      <td>First</td>\n",
       "      <td>13.00</td>\n",
       "      <td>2143.0</td>\n",
       "      <td>204.00</td>\n",
       "      <td>5.0</td>\n",
       "      <td>NaN</td>\n",
       "      <td>32.25</td>\n",
       "    </tr>\n",
       "    <tr>\n",
       "      <th>3876</th>\n",
       "      <td>4849</td>\n",
       "      <td>Honda City i DTEC V</td>\n",
       "      <td>Delhi</td>\n",
       "      <td>2014</td>\n",
       "      <td>66500</td>\n",
       "      <td>Diesel</td>\n",
       "      <td>Manual</td>\n",
       "      <td>First</td>\n",
       "      <td>26.00</td>\n",
       "      <td>1498.0</td>\n",
       "      <td>98.60</td>\n",
       "      <td>5.0</td>\n",
       "      <td>NaN</td>\n",
       "      <td>5.70</td>\n",
       "    </tr>\n",
       "    <tr>\n",
       "      <th>705</th>\n",
       "      <td>3123</td>\n",
       "      <td>Tata Manza Aqua Safire</td>\n",
       "      <td>Mumbai</td>\n",
       "      <td>2010</td>\n",
       "      <td>41195</td>\n",
       "      <td>Petrol</td>\n",
       "      <td>Manual</td>\n",
       "      <td>First</td>\n",
       "      <td>15.00</td>\n",
       "      <td>1368.0</td>\n",
       "      <td>90.00</td>\n",
       "      <td>5.0</td>\n",
       "      <td>NaN</td>\n",
       "      <td>1.38</td>\n",
       "    </tr>\n",
       "    <tr>\n",
       "      <th>3907</th>\n",
       "      <td>1191</td>\n",
       "      <td>Toyota Etios GD SP</td>\n",
       "      <td>Coimbatore</td>\n",
       "      <td>2016</td>\n",
       "      <td>53702</td>\n",
       "      <td>Diesel</td>\n",
       "      <td>Manual</td>\n",
       "      <td>First</td>\n",
       "      <td>23.59</td>\n",
       "      <td>1364.0</td>\n",
       "      <td>67.04</td>\n",
       "      <td>5.0</td>\n",
       "      <td>NaN</td>\n",
       "      <td>6.55</td>\n",
       "    </tr>\n",
       "  </tbody>\n",
       "</table>\n",
       "</div>"
      ],
      "text/plain": [
       "      Unnamed: 0                                               Name  \\\n",
       "4235        3191                     Mercedes-Benz A Class A180 CDI   \n",
       "798         5761               Audi Q7 3.0 TDI Quattro Premium Plus   \n",
       "2321        1811                                Honda Accord 2.4 AT   \n",
       "3352        3335           Toyota Corolla Altis 2008-2013 1.8 VL AT   \n",
       "2304        4712                             Hyundai Santro Xing XG   \n",
       "2554        3225                                    Honda City V AT   \n",
       "1606        1233  Mercedes-Benz E-Class 2015-2017 E250 CDI Avant...   \n",
       "3876        4849                                Honda City i DTEC V   \n",
       "705         3123                             Tata Manza Aqua Safire   \n",
       "3907        1191                                 Toyota Etios GD SP   \n",
       "\n",
       "        Location  Year  Kilometers_Driven Fuel_Type Transmission Owner_Type  \\\n",
       "4235        Pune  2015              48300    Diesel    Automatic      First   \n",
       "798   Coimbatore  2015              55662    Diesel    Automatic      First   \n",
       "2321       Kochi  2011              62332    Petrol    Automatic      First   \n",
       "3352      Mumbai  2010              63298    Petrol    Automatic      First   \n",
       "2304        Pune  2003              80000    Petrol       Manual     Second   \n",
       "2554  Coimbatore  2012              60908    Petrol    Automatic     Second   \n",
       "1606       Kochi  2017              36884    Diesel    Automatic      First   \n",
       "3876       Delhi  2014              66500    Diesel       Manual      First   \n",
       "705       Mumbai  2010              41195    Petrol       Manual      First   \n",
       "3907  Coimbatore  2016              53702    Diesel       Manual      First   \n",
       "\n",
       "      Mileage  Engine   Power  Seats New_Price  Price  \n",
       "4235    20.00  2143.0  107.30    5.0       NaN  17.50  \n",
       "798     12.07  2967.0  241.40    7.0       NaN  42.83  \n",
       "2321    11.70  2354.0  177.60    5.0       NaN   5.89  \n",
       "3352    14.53  1794.0  138.10    5.0       NaN   3.95  \n",
       "2304    17.00     NaN     NaN    NaN       NaN   0.90  \n",
       "2554    15.60  1497.0  116.30    5.0       NaN   6.42  \n",
       "1606    13.00  2143.0  204.00    5.0       NaN  32.25  \n",
       "3876    26.00  1498.0   98.60    5.0       NaN   5.70  \n",
       "705     15.00  1368.0   90.00    5.0       NaN   1.38  \n",
       "3907    23.59  1364.0   67.04    5.0       NaN   6.55  "
      ]
     },
     "execution_count": 8,
     "metadata": {},
     "output_type": "execute_result"
    }
   ],
   "source": [
    "train_data_clean.sample(10, random_state=42)"
   ]
  },
  {
   "cell_type": "markdown",
   "metadata": {},
   "source": [
    "To start addressing the missing values problem, we first need to represent all the missing value with a single reperesentation. So instead of having both `NaN` and `0` as representations of missing values, we transform all `0` values to `NaN` values as well."
   ]
  },
  {
   "cell_type": "code",
   "execution_count": 9,
   "metadata": {},
   "outputs": [],
   "source": [
    "train_data_clean = train_data_clean.replace(0, np.nan)\n",
    "test_data_clean = test_data_clean.replace(0, np.nan)"
   ]
  },
  {
   "cell_type": "markdown",
   "metadata": {},
   "source": [
    "With `NaN` as the representation for the missing values, we can run the following statement to get the percentage of missing values in each feature"
   ]
  },
  {
   "cell_type": "code",
   "execution_count": 10,
   "metadata": {},
   "outputs": [
    {
     "data": {
      "text/plain": [
       "Unnamed: 0            0.022153\n",
       "Name                  0.000000\n",
       "Location              0.000000\n",
       "Year                  0.000000\n",
       "Kilometers_Driven     0.000000\n",
       "Fuel_Type             0.000000\n",
       "Transmission          0.000000\n",
       "Owner_Type            0.000000\n",
       "Mileage               0.996899\n",
       "Engine                0.575986\n",
       "Power                 2.215330\n",
       "Seats                 0.686752\n",
       "New_Price            86.287107\n",
       "Price                 0.000000\n",
       "dtype: float64"
      ]
     },
     "execution_count": 10,
     "metadata": {},
     "output_type": "execute_result"
    }
   ],
   "source": [
    "train_data_clean.isnull().mean() * 100"
   ]
  },
  {
   "cell_type": "markdown",
   "metadata": {},
   "source": [
    "With the big number of data missing from the `New_Price` feature, it'd be reasonable to drop that feature all together for now, along with the `Unnamed: 0` column which has no purpose."
   ]
  },
  {
   "cell_type": "code",
   "execution_count": 11,
   "metadata": {},
   "outputs": [],
   "source": [
    "train_data_clean = train_data_clean.drop(['New_Price', 'Unnamed: 0'], axis=1)\n",
    "test_data_clean = test_data_clean.drop(['New_Price', 'Unnamed: 0'], axis=1)"
   ]
  },
  {
   "cell_type": "markdown",
   "metadata": {},
   "source": [
    "For the other features with missing values, we can apply a simple imputation startegy, which replaces each missing value with the mean value of the existing values. But before we do that, we need to encode the categorical features and make the train-test split. We encode the categrocial feature using the `OrdinalEncoder` of `sklearn.preprocessing`. We also make use of `ColumnTransformer` from `sklearn.compose` to limit the ordinal encoding to the categorical columns only."
   ]
  },
  {
   "cell_type": "code",
   "execution_count": 12,
   "metadata": {},
   "outputs": [],
   "source": [
    "from sklearn.compose import ColumnTransformer\n",
    "from sklearn.preprocessing import OrdinalEncoder\n",
    "from sklearn.model_selection import train_test_split\n",
    "\n",
    "categorical_features = [\n",
    "    'Name','Location', 'Fuel_Type', 'Transmission', 'Owner_Type'\n",
    "]\n",
    "\n",
    "encoder = ColumnTransformer([\n",
    "    ('categories_encoder', OrdinalEncoder(), categorical_features)\n",
    "], remainder='passthrough')\n",
    "\n",
    "all_clean_data = train_data_clean.append(test_data_clean)\n",
    "encoded_data = encoder.fit(all_clean_data)\n",
    "\n",
    "train_data_encoded = encoder.transform(train_data_clean)\n",
    "test_data_encoded = encoder.transform(test_data_clean)\n",
    "\n",
    "X_train, y_train = train_data_encoded[:, :-1], train_data_encoded[:, -1]\n",
    "X_test, y_test = test_data_encoded[:, :-1], test_data_encoded[:, -1]"
   ]
  },
  {
   "cell_type": "markdown",
   "metadata": {},
   "source": [
    "Now that we preprocessed our data, we can run the imputation process"
   ]
  },
  {
   "cell_type": "code",
   "execution_count": 13,
   "metadata": {},
   "outputs": [],
   "source": [
    "from sklearn.impute import SimpleImputer\n",
    "\n",
    "imputer = SimpleImputer(strategy='mean')\n",
    "X_train_imputed = imputer.fit_transform(X_train)\n",
    "\n",
    "X_test_imputed = imputer.transform(X_test)"
   ]
  },
  {
   "cell_type": "markdown",
   "metadata": {},
   "source": [
    "Now our data is ready to train the decision tree.\n",
    "\n",
    "### 7.2.2 Training and Evaluating the Decision Tree\n",
    "\n",
    "Like any scikit-learn model, training a decision tree is nothing but running the `fit` method of a `DecisionTreeRegressor` object, which can be found in the `sklearn.tree module`."
   ]
  },
  {
   "cell_type": "code",
   "execution_count": 14,
   "metadata": {},
   "outputs": [
    {
     "data": {
      "text/plain": [
       "DecisionTreeRegressor(ccp_alpha=0.0, criterion='mse', max_depth=None,\n",
       "                      max_features=None, max_leaf_nodes=None,\n",
       "                      min_impurity_decrease=0.0, min_impurity_split=None,\n",
       "                      min_samples_leaf=1, min_samples_split=2,\n",
       "                      min_weight_fraction_leaf=0.0, presort='deprecated',\n",
       "                      random_state=42, splitter='best')"
      ]
     },
     "execution_count": 14,
     "metadata": {},
     "output_type": "execute_result"
    }
   ],
   "source": [
    "from sklearn.tree import DecisionTreeRegressor\n",
    "\n",
    "model = DecisionTreeRegressor(random_state=42)\n",
    "model.fit(X_train_imputed, y_train)"
   ]
  },
  {
   "cell_type": "markdown",
   "metadata": {},
   "source": [
    "To evaluate our trained decision tree on the testing data, we use the `mean_squared_error` function from `sklearn.metrics`."
   ]
  },
  {
   "cell_type": "code",
   "execution_count": 15,
   "metadata": {},
   "outputs": [
    {
     "name": "stdout",
     "output_type": "stream",
     "text": [
      "MSE = 29.52\n"
     ]
    }
   ],
   "source": [
    "from sklearn.metrics import mean_squared_error\n",
    "\n",
    "y_predicted = model.predict(X_test_imputed)\n",
    "mse = mean_squared_error(y_true=y_test, y_pred=y_predicted)\n",
    "print(\"MSE = {:.2f}\".format(mse))"
   ]
  },
  {
   "cell_type": "markdown",
   "metadata": {},
   "source": [
    "We can see that the MSE of our model is higher than 15, hence our decision tree cannot be accepted. We need to start thinking about how we can improve its performance and move it towards the acceptance criteria. We started our discussion of decision trees with one interesting property, and it was the fact that decision trees can be easily visualized. So in order to understand what this decision tree is doing wrong and attempt to improve, visualizing our trained tree would be good place to start.\n",
    "\n",
    "Scikit-learn provides us with the ability to visualize trained decision trees with the help of \n",
    "known graph-drawing library called `graphviz`. With the `export_graphviz` function from the \n",
    "`sklearn.tree` module, we can export the trained tree in graphviz format (called dot format). \n",
    "Using the exported dot format of the tree, we can use the python bindings for graphviz to \n",
    "export the visualized tree in a PDF file that where we can examine the tree and inspect it. In order to do so, we need to install the python bindings to the `graphviz` library."
   ]
  },
  {
   "cell_type": "code",
   "execution_count": 16,
   "metadata": {},
   "outputs": [
    {
     "name": "stdout",
     "output_type": "stream",
     "text": [
      "Collecting package metadata (current_repodata.json): done\n",
      "Solving environment: done\n",
      "\n",
      "# All requested packages already installed.\n",
      "\n"
     ]
    }
   ],
   "source": [
    "!conda install -y python-graphviz"
   ]
  },
  {
   "cell_type": "markdown",
   "metadata": {},
   "source": [
    "Now that we have the `graphviz` bindings installed, we can use the `export_graphviz` function to export our visualized tree into a pdf file."
   ]
  },
  {
   "cell_type": "code",
   "execution_count": 17,
   "metadata": {},
   "outputs": [
    {
     "data": {
      "text/plain": [
       "'visulaized_tree.pdf'"
      ]
     },
     "execution_count": 17,
     "metadata": {},
     "output_type": "execute_result"
    }
   ],
   "source": [
    "from sklearn.tree import export_graphviz\n",
    "import graphviz\n",
    "\n",
    "numerical_features = [\n",
    "    'Year', 'Kilometers_Driven', 'Mileage', 'Engine', 'Power', 'Seats'\n",
    "]\n",
    "\n",
    "dot_data = export_graphviz(\n",
    "    model,\n",
    "    # This allows the visualization to put feature names in decision nodes\n",
    "    feature_names=categorical_features + numerical_features,\n",
    "    # This makes the nodes with rounded corners\n",
    "    rounded=True,\n",
    "    # fills the nodes with gradient of colors indicating how high/low the decision value is\n",
    "    filled=True,\n",
    "    # uses special charcaters like ≤ instead of <\n",
    "    special_characters=True\n",
    ")\n",
    "\n",
    "visualized_tree = graphviz.Source(dot_data)\n",
    "visualized_tree.render(\"visulaized_tree\")"
   ]
  },
  {
   "cell_type": "markdown",
   "metadata": {},
   "source": [
    "When opening the `visualized_tree.pdf` file, we can see the tree is huge! It requires multiple \n",
    "zoom-ins to start seeing the nodes clearly. We can verify that this is the case for the whole tree by calling the `get_n_leaves()` method on our model to get the exact number of leaves and compare it to the number of training \n",
    "points in `X_train`. "
   ]
  },
  {
   "cell_type": "code",
   "execution_count": 18,
   "metadata": {},
   "outputs": [
    {
     "name": "stdout",
     "output_type": "stream",
     "text": [
      "4514 data samples are put into 4286 leaf nodes\n"
     ]
    }
   ],
   "source": [
    "training_count, _ = X_train.shape\n",
    "leaves_count = model.get_n_leaves()\n",
    "\n",
    "print(\"{} data samples are put into {} leaf nodes\".format(\n",
    "    training_count, leaves_count\n",
    "))"
   ]
  },
  {
   "cell_type": "markdown",
   "metadata": {},
   "source": [
    "## 7.3 Trim the Tree or Grow Yourself a Forest\n",
    "\n",
    "Instead of learning decision paths from multiple samples that are similar to each others, our model has learned unique decision paths for almost every sample in the training data. This is typical overfitting behavior. And over fitting means that the model is suffering from high variance, and this high variance needs to be reduced in order to get better performance.\n",
    "\n",
    "Before we start exploring how we can lower the variance of our tree model, we first need to get an estimate of how high our current model’s variance is. Because the details of estimating a model’s variance is out of this chapter’s scope, we created a special function called `estimate_tree_variance` in the chapter’s `utils` module that can do that for us. This function takes the un-imputed version of the data and returns a float representing the estimated variance of decision trees on this data set."
   ]
  },
  {
   "cell_type": "code",
   "execution_count": 24,
   "metadata": {},
   "outputs": [
    {
     "name": "stdout",
     "output_type": "stream",
     "text": [
      "Estimated Tree Variance = 15.22\n"
     ]
    }
   ],
   "source": [
    "from utils import estimate_tree_variance\n",
    "\n",
    "tree_var = estimate_tree_variance(X_train, y_train)\n",
    "print(\"Estimated Tree Variance = {:.2f}\".format(tree_var))"
   ]
  },
  {
   "cell_type": "markdown",
   "metadata": {},
   "source": [
    "### 7.3.1 Pruning the Tree\n",
    "\n",
    "What caught our attention to the overfitting problem in our tree was the number of samples in each node, so it makes since that we tree to prune the tree (and hence lower its varaiance) by controling the minimum number of samples in a leaf node (to be graeter than one). This can be controlled by the `min_smaples_leaf` parameter of the `DecisionTreeRegressor`. We tune the value of this parameter through grid search on a validation set but this time we use `scikit-learn`'s `GridSearchCV` module that uses cross-validation to get better estimate of the validation scores _(read the section in the book to understand how cross-validation works)_"
   ]
  },
  {
   "cell_type": "code",
   "execution_count": 20,
   "metadata": {},
   "outputs": [
    {
     "data": {
      "text/plain": [
       "GridSearchCV(cv=5, error_score=nan,\n",
       "             estimator=Pipeline(memory=None,\n",
       "                                steps=[('imputer',\n",
       "                                        SimpleImputer(add_indicator=False,\n",
       "                                                      copy=True,\n",
       "                                                      fill_value=None,\n",
       "                                                      missing_values=nan,\n",
       "                                                      strategy='mean',\n",
       "                                                      verbose=0)),\n",
       "                                       ('tree',\n",
       "                                        DecisionTreeRegressor(ccp_alpha=0.0,\n",
       "                                                              criterion='mse',\n",
       "                                                              max_depth=None,\n",
       "                                                              max_features=None,\n",
       "                                                              max_leaf_nodes=None,\n",
       "                                                              min_impurity_decrease=0.0,\n",
       "                                                              min_impurity_split=None,\n",
       "                                                              min_samples_leaf=1,\n",
       "                                                              min_samples_split=2,\n",
       "                                                              min_weight_fraction_leaf=0.0,\n",
       "                                                              presort='deprecated',\n",
       "                                                              random_state=None,\n",
       "                                                              splitter='best'))],\n",
       "                                verbose=False),\n",
       "             iid='deprecated', n_jobs=None,\n",
       "             param_grid={'tree__min_samples_leaf': array([ 1,  2,  3,  4,  5,  6,  7,  8,  9, 10, 11, 12, 13, 14, 15, 16, 17,\n",
       "       18, 19])},\n",
       "             pre_dispatch='2*n_jobs', refit=True, return_train_score=False,\n",
       "             scoring='neg_mean_squared_error', verbose=0)"
      ]
     },
     "execution_count": 20,
     "metadata": {},
     "output_type": "execute_result"
    }
   ],
   "source": [
    "from sklearn.model_selection import GridSearchCV\n",
    "from sklearn.pipeline import Pipeline\n",
    "\n",
    "# ensures random generations are the same across all runs\n",
    "np.random.seed(42)\n",
    "\n",
    "pipeline = Pipeline([\n",
    "    ('imputer', SimpleImputer(strategy='mean')),\n",
    "    ('tree', DecisionTreeRegressor())\n",
    "])\n",
    "\n",
    "model_selector = GridSearchCV(pipeline, param_grid={\n",
    "    'tree__min_samples_leaf': np.arange(1, 20),\n",
    "}, scoring='neg_mean_squared_error', cv=5)\n",
    "\n",
    "model_selector.fit(X_train, y_train)"
   ]
  },
  {
   "cell_type": "markdown",
   "metadata": {},
   "source": [
    "we can access the best parameter and the best model through the `best_params_` and `best_estimator_` attributes. On interesting fact to note about the model living at `best_estimator_` is that this model is trained on the whole the training set using the best parametr found using k-fold CV."
   ]
  },
  {
   "cell_type": "code",
   "execution_count": 21,
   "metadata": {},
   "outputs": [
    {
     "name": "stdout",
     "output_type": "stream",
     "text": [
      "{'tree__min_samples_leaf': 7}\n"
     ]
    }
   ],
   "source": [
    "print(model_selector.best_params_)\n",
    "best_trimmed_tree = model_selector.best_estimator_"
   ]
  },
  {
   "cell_type": "markdown",
   "metadata": {},
   "source": [
    "We can verify that the model found by k-fold CV performs better by calculating the test MSE of `best_trimmed_tree` and by checking the number of leaves in that tree model and its estimated variance."
   ]
  },
  {
   "cell_type": "code",
   "execution_count": 25,
   "metadata": {},
   "outputs": [
    {
     "name": "stdout",
     "output_type": "stream",
     "text": [
      "[min_samples_leaf = 7] MSE = 20.68\n",
      "[min_smaples_leaf = 7] Leaves = 504\n",
      "[min_smaples_leaf = 7] Variance = 9.03\n"
     ]
    }
   ],
   "source": [
    "best_trimmed_preds = best_trimmed_tree.predict(X_test)\n",
    "best_trimmed_mse = mean_squared_error(y_test, best_trimmed_preds)\n",
    "\n",
    "# we access steps of the pipeline like we get values from a dict\n",
    "best_trimmed_n_leaves = best_trimmed_tree['tree'].get_n_leaves()\n",
    "best_trimmed_variance = estimate_tree_variance(\n",
    "    X_train, y_train, min_samples_leaf=7\n",
    ")\n",
    "\n",
    "print(\"[min_samples_leaf = 7] MSE = {:.2f}\".format(best_trimmed_mse))\n",
    "print(\"[min_smaples_leaf = 7] Leaves = {}\".format(best_trimmed_n_leaves))\n",
    "print(\"[min_smaples_leaf = 7] Variance = {:.2f}\".format(best_trimmed_variance))"
   ]
  },
  {
   "cell_type": "markdown",
   "metadata": {},
   "source": [
    "While MSE was reduced by almost 9, the model’s error is still higher than the acceptance criteria. Although our new trimmed tree is much smaller (504 leaves vs. 4286 leaves) and has lower variance (9.03 vs. 15.22) compared to the un-pruned tree. It seems that we need to explore more ideas to lower the variance more in order to meet our acceptance criteria.\n",
    "\n",
    "## 7.3.2 Random Forests\n",
    "\n",
    "Another approach to reduce the variance of tree models is to train a large number of large trees and to take the a vote (or the mean) on the labels produced on each tree to produce the final label. In order for such approach to work, the trees need to be as uncorrelated as possible, so that the vote of one does not affect the other. This is done by training each tree on a subsample of the training set chosen randomly with replacement and by randmoly chosing a subset of the features to train the tree on. We train a random forsest with scikit-learn through the `RandomForestRegressor` class using k-fold cross validation to the chose the best number of features to train the tree upon. "
   ]
  },
  {
   "cell_type": "code",
   "execution_count": 31,
   "metadata": {},
   "outputs": [
    {
     "data": {
      "text/plain": [
       "GridSearchCV(cv=5, error_score=nan,\n",
       "             estimator=Pipeline(memory=None,\n",
       "                                steps=[('imputer',\n",
       "                                        SimpleImputer(add_indicator=False,\n",
       "                                                      copy=True,\n",
       "                                                      fill_value=None,\n",
       "                                                      missing_values=nan,\n",
       "                                                      strategy='mean',\n",
       "                                                      verbose=0)),\n",
       "                                       ('forest',\n",
       "                                        RandomForestRegressor(bootstrap=True,\n",
       "                                                              ccp_alpha=0.0,\n",
       "                                                              criterion='mse',\n",
       "                                                              max_depth=None,\n",
       "                                                              max_features='auto',\n",
       "                                                              max_leaf_nodes=None,\n",
       "                                                              max_samples=None,\n",
       "                                                              min_impurit...\n",
       "                                                              min_samples_split=2,\n",
       "                                                              min_weight_fraction_leaf=0.0,\n",
       "                                                              n_estimators=100,\n",
       "                                                              n_jobs=None,\n",
       "                                                              oob_score=False,\n",
       "                                                              random_state=None,\n",
       "                                                              verbose=0,\n",
       "                                                              warm_start=False))],\n",
       "                                verbose=False),\n",
       "             iid='deprecated', n_jobs=None,\n",
       "             param_grid={'forest__max_features': array([ 5,  6,  7,  8,  9, 10, 11])},\n",
       "             pre_dispatch='2*n_jobs', refit=True, return_train_score=False,\n",
       "             scoring='neg_mean_squared_error', verbose=0)"
      ]
     },
     "execution_count": 31,
     "metadata": {},
     "output_type": "execute_result"
    }
   ],
   "source": [
    "from sklearn.ensemble import RandomForestRegressor\n",
    "\n",
    "np.random.seed(42)\n",
    "\n",
    "forest_pipeline = Pipeline([\n",
    "    ('imputer', SimpleImputer(strategy='mean')),\n",
    "    ('forest', RandomForestRegressor(n_estimators=100))\n",
    "])\n",
    "\n",
    "forest_selector = GridSearchCV(\n",
    "    forest_pipeline,\n",
    "    param_grid = {\n",
    "        'forest__max_features': np.arange(5, 12)\n",
    "    },\n",
    "    scoring='neg_mean_squared_error',\n",
    "    cv=5\n",
    ")\n",
    "    \n",
    "forest_selector.fit(X_train, y_train)"
   ]
  },
  {
   "cell_type": "markdown",
   "metadata": {},
   "source": [
    "In that snippet, we train the forest while tuning the number of `max_features` starting from 5 to the maximum number of features, which is 11. We can access the best value for `max_features` through `forest_selector.best_params_` and the best forest trained on all data through `forest_selector.best_estimator_` as before:"
   ]
  },
  {
   "cell_type": "code",
   "execution_count": 32,
   "metadata": {},
   "outputs": [
    {
     "name": "stdout",
     "output_type": "stream",
     "text": [
      "{'forest__max_features': 5}\n"
     ]
    }
   ],
   "source": [
    "print(forest_selector.best_params_)\n",
    "best_forest = forest_selector.best_estimator_"
   ]
  },
  {
   "cell_type": "markdown",
   "metadata": {},
   "source": [
    "Now we can evaluate our forest against our held-out testing set and see that it exceeded the best trimmed tree we had before:"
   ]
  },
  {
   "cell_type": "code",
   "execution_count": 35,
   "metadata": {},
   "outputs": [
    {
     "name": "stdout",
     "output_type": "stream",
     "text": [
      "[Random Forest] MSE = 12.98\n",
      "[Random Forest] Variance = 1.16\n"
     ]
    }
   ],
   "source": [
    "from utils import estimate_forest_variance\n",
    "\n",
    "best_forest_preds = best_forest.predict(X_test)\n",
    "best_forest_medae = mean_squared_error(y_test, best_forest_preds)\n",
    "\n",
    "best_forest_variance = estimate_forest_variance(\n",
    "    X_train, y_train, max_features=5\n",
    ")\n",
    "\n",
    "print(\"[Random Forest] MSE = {:.2f}\".format(best_forest_medae))\n",
    "print(\"[Random Forest] Variance = {:.2f}\".format(best_forest_variance))"
   ]
  },
  {
   "cell_type": "markdown",
   "metadata": {},
   "source": [
    "Random Forests gave us a reduction of around 8 in the prediction error, making it around 13 which is lower than the acceptance criteria. You did it! Now the model can be integrated in the supply pipeline of your colleague’s used car business. Even the variance of the forest is much lower than its pruned tree counterpart. Why is that? And how variance exactly affects error on testing data? Does that happen for decision trees only or it’s a general thing? These are questions to be answered by a little theoretical investigation that we can freely embark on \n",
    "now after we have delivered our product.\n",
    "\n",
    "## 7.4 What Controls Generalization?\n",
    "\n",
    "### 7.4.1 Why do Machine Learn from Data?\n",
    "\n",
    "The main idea behind why machines can learn patterns from data is what's called the law of large numbers states that as the number of trials increases, the average outcome of a random experiment will get closer and closer to the true expected value. Take for example on of the simplest random experiments ever, tossing a fair coin; one would expect that we’ll get heads 50% of the times we toss a fair coin. The law of large number says that if we tossed that for some number of times, and at each toss we counted the number of times heads appeared so far, we’ll find that this count approaches 50% of the trials as we toss the coin more and more. We can simulate that programmatically using numpy.random.choice and pass it an array that has two elements `H` for heads and `T` for tails. This function will simulate a random choice between `H` and `T` with equal probability, which is what we \n",
    "expect from a fair coin.\n",
    "\n",
    "In our little experiment below, we simulate tossing a fair coin for 10K times and at each trial we count the fraction of heads that we got so far, we’ll call that the empirical fraction. We then plot these fractions through time and compare it to the expected fraction, which is 50% (or 0.5 the times)"
   ]
  },
  {
   "cell_type": "code",
   "execution_count": 37,
   "metadata": {},
   "outputs": [
    {
     "data": {
      "image/png": "[encoded data removed]",
      "text/plain": [
       "<Figure size 720x360 with 1 Axes>"
      ]
     },
     "metadata": {},
     "output_type": "display_data"
    }
   ],
   "source": [
    "import numpy as np\n",
    "import matplotlib.pyplot as plt\n",
    "%matplotlib inline\n",
    "\n",
    "np.random.seed(42)\n",
    "\n",
    "heads_count = 0\n",
    "averages = []\n",
    "for i in range(10000):\n",
    "    sample = np.random.choice(['H', 'T'])\n",
    "    heads_count += 1 if sample == 'H' else 0\n",
    "    averages.append(heads_count / (i + 1))\n",
    "with plt.xkcd():\n",
    "    _ = plt.figure(figsize=(10,5))\n",
    "    plt.plot(range(10000), averages)\n",
    "    plt.axhline(0.5, linestyle='--', color='black')\n",
    "    plt.xlabel(\"Trial Number\")\n",
    "    plt.ylabel(\"Heads Count Fraction\")"
   ]
  },
  {
   "cell_type": "markdown",
   "metadata": {},
   "source": [
    "This comparison, as shown in plot above, demonstrates that the empirical fraction approaches the expected fraction as the number of trials increase. Or in other words, as the number of trials increase, it becomes less likely that the difference between the empirical fraction and the true fraction to be large. This last sentence is exactly what the mathematical formula of the law of large number says.\n",
    "\n",
    "### 7.4.3 The Bias-Variance Trade-off\n",
    "\n",
    "The trade-off between overfitting and underfitting is a universal problem throughout the whole realm of machine learning, and it goes by the name of bias-variance tradeoff. It’s usually the case with most machine learning models that when the model becomes more complex, the model overfits the training data and performs badly on new unseen samples. When the model’s complexity is reduced to avoid that situation, the model underfits the training data resulting in bad performance on unseen samples as well.\n",
    "\n",
    "To see this in action, we can compare the training error and the testing error of a decision tree across different values for the leaves count. In the chapter’s `utils` module, we provided a function called `plot_train_test_variance_curves` that does this comparison for us. This function does the following:\n",
    "\n",
    "1. Train different decision trees with different leaf nodes count from small to large and records the tree’s MSE on the training data and the testing data. Moreover, it records an estimate variance for a tree with such size.\n",
    "2. After that, the function draws two plots:\n",
    "\n",
    "  1. One plot showing the testing error vs. the training error over different leaves count.\n",
    "  2. Another plot showing the generalization gap (|testing error - training error|) vs the variance over different  leaves count. This should help us understand the relation between the generalization bound above and the variance of the model. Using this function is pretty simple, we just need to send it the training and testing data, un imputed."
   ]
  },
  {
   "cell_type": "code",
   "execution_count": 23,
   "metadata": {},
   "outputs": [
    {
     "data": {
      "image/png": "[encoded data removed]",
      "text/plain": [
       "<Figure size 1080x360 with 2 Axes>"
      ]
     },
     "metadata": {},
     "output_type": "display_data"
    }
   ],
   "source": [
    "from utils import draw_tree_learning_curves\n",
    "\n",
    "draw_tree_learning_curves(X_train, y_train, X_test, y_test)"
   ]
  },
  {
   "cell_type": "markdown",
   "metadata": {},
   "source": [
    "### 7.4.4 Why do Random Forests Work so Well?\n",
    "\n",
    "The power of random forests comes form the fact that its variance is essentially the variance of a single decision tree divided by the number of trees ($q$) in the forest plus a samll value representing the correlation between the forest's trees.\n",
    "\n",
    "$$\n",
    "Var(H_{RF}) = \\frac{Var(H_{DT})}{q} + \\text{small value}\n",
    "$$\n",
    "\n",
    "We can actually verify that by running the `estimate_tree_variance` and `estimate_forest_variance` on our data and see that the estimated forest variance only 1.08 above the variance of trees divided by 100 (the number of tress in the forest)."
   ]
  },
  {
   "cell_type": "code",
   "execution_count": 82,
   "metadata": {},
   "outputs": [
    {
     "name": "stdout",
     "output_type": "stream",
     "text": [
      "Var(HRF) - (Var(HDT) / 100) = 1.08\n"
     ]
    }
   ],
   "source": [
    "np.random.seed(42)\n",
    "\n",
    "tree_variance = estimate_tree_variance(X_train, y_train, max_features=5)\n",
    "forest_variance = estimate_forest_variance(X_train, y_train, max_features=5)\n",
    "\n",
    "diff = forest_variance - (tree_var / 100)\n",
    "print(\"Var(HRF) - (Var(HDT) / 100) = {:.2f}\".format(diff))"
   ]
  }
 ],
 "metadata": {
  "kernelspec": {
   "display_name": "Python 3",
   "language": "python",
   "name": "python3"
  },
  "language_info": {
   "codemirror_mode": {
    "name": "ipython",
    "version": 3
   },
   "file_extension": ".py",
   "mimetype": "text/x-python",
   "name": "python",
   "nbconvert_exporter": "python",
   "pygments_lexer": "ipython3",
   "version": "3.6.8"
  }
 },
 "nbformat": 4,
 "nbformat_minor": 2
}
