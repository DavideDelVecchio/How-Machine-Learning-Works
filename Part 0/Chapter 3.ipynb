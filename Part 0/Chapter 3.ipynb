{
 "cells": [
  {
   "cell_type": "code",
   "execution_count": 1,
   "metadata": {
    "collapsed": true
   },
   "outputs": [],
   "source": [
    "%matplotlib inline"
   ]
  },
  {
   "cell_type": "markdown",
   "metadata": {},
   "source": [
    "# Chapter 3\n",
    "## What can we Learn form the Data?"
   ]
  },
  {
   "cell_type": "markdown",
   "metadata": {},
   "source": [
    "### Preparing data\n",
    "We just load the diabetes dataset and apply the cleaning we did on zero BMI entries in the last chapter and the data we'll be ready to move forward with our inferential analysis in this chapter."
   ]
  },
  {
   "cell_type": "code",
   "execution_count": 2,
   "metadata": {},
   "outputs": [],
   "source": [
    "import pandas as pd\n",
    "\n",
    "data = pd.read_csv('../datasets/PimaIndiansDiabetes.csv')\n",
    "data_of_interest = data.loc[:, [\"BMI\", \"Class\"]]\n",
    "\n",
    "zero_bmi_mask = data_of_interest.loc[:, \"BMI\"] != 0\n",
    "\n",
    "clean_data_of_interest = data_of_interest[zero_bmi_mask]"
   ]
  },
  {
   "cell_type": "markdown",
   "metadata": {},
   "source": [
    "### Weighting histograms with `sample_size`"
   ]
  },
  {
   "cell_type": "code",
   "execution_count": 3,
   "metadata": {},
   "outputs": [
    {
     "data": {
      "text/plain": [
       "<matplotlib.axes._subplots.AxesSubplot at 0x7f71c406dba8>"
      ]
     },
     "execution_count": 3,
     "metadata": {},
     "output_type": "execute_result"
    },
    {
     "data": {
      "image/png": "[encoded data removed]",
      "text/plain": [
       "<matplotlib.figure.Figure at 0x7f71c406d4a8>"
      ]
     },
     "metadata": {},
     "output_type": "display_data"
    }
   ],
   "source": [
    "sample_size = len(clean_data_of_interest.loc[:, \"BMI\"])\n",
    "weights_list = [1 / sample_size] * sample_size\n",
    "\n",
    "clean_data_of_interest.loc[:, \"BMI\"].plot.hist(weights=weights_list)"
   ]
  },
  {
   "cell_type": "markdown",
   "metadata": {},
   "source": [
    "### Plotting probability density"
   ]
  },
  {
   "cell_type": "code",
   "execution_count": 4,
   "metadata": {},
   "outputs": [
    {
     "data": {
      "text/plain": [
       "Text(0,0.5,'Probability Desnity')"
      ]
     },
     "execution_count": 4,
     "metadata": {},
     "output_type": "execute_result"
    },
    {
     "data": {
      "image/png": "[encoded data removed]",
      "text/plain": [
       "<matplotlib.figure.Figure at 0x7f71bc9dd9e8>"
      ]
     },
     "metadata": {},
     "output_type": "display_data"
    }
   ],
   "source": [
    "clean_data_of_interest.loc[:, \"BMI\"].plot.hist(normed=True).set_ylabel(\"Probability Desnity\")"
   ]
  },
  {
   "cell_type": "markdown",
   "metadata": {},
   "source": [
    "### Implementing a Bernoulli distribution"
   ]
  },
  {
   "cell_type": "code",
   "execution_count": 5,
   "metadata": {
    "collapsed": true
   },
   "outputs": [],
   "source": [
    "def bernoulli(y, p):\n",
    "    return y * p + (1 - y) * (1 - p)"
   ]
  },
  {
   "cell_type": "code",
   "execution_count": 6,
   "metadata": {},
   "outputs": [
    {
     "name": "stdout",
     "output_type": "stream",
     "text": [
      "Probability of getting a 0 from a Bernoulli(0.457): 0.54\n",
      "Probability of getting a 1 from a Bernoulli(0.963): 0.96\n"
     ]
    }
   ],
   "source": [
    "print(\"Probability of getting a 0 from a Bernoulli(0.457): {:.2f}\". format(bernoulli(0, 0.457)))\n",
    "print(\"Probability of getting a 1 from a Bernoulli(0.963): {:.2f}\". format(bernoulli(1, 0.963)))"
   ]
  },
  {
   "cell_type": "markdown",
   "metadata": {},
   "source": [
    "### `scipy` distributions: functional vs. object-oriented"
   ]
  },
  {
   "cell_type": "markdown",
   "metadata": {},
   "source": [
    "#### Functional form\n",
    "\n"
   ]
  },
  {
   "cell_type": "code",
   "execution_count": 7,
   "metadata": {},
   "outputs": [],
   "source": [
    "from scipy.stats import norm\n",
    "\n",
    "functional_cdf_at_3 = norm.cdf(3, loc=1, scale=2.5)"
   ]
  },
  {
   "cell_type": "code",
   "execution_count": 8,
   "metadata": {},
   "outputs": [
    {
     "name": "stdout",
     "output_type": "stream",
     "text": [
      "0.7881\n"
     ]
    }
   ],
   "source": [
    "print(\"{:.4f}\".format(functional_cdf_at_3))"
   ]
  },
  {
   "cell_type": "markdown",
   "metadata": {},
   "source": [
    "#### Object-oriented"
   ]
  },
  {
   "cell_type": "code",
   "execution_count": 9,
   "metadata": {
    "collapsed": true
   },
   "outputs": [],
   "source": [
    "rv = norm(loc=1, scale=2.5)\n",
    "oo_cdf_at_3 = rv.cdf(3)"
   ]
  },
  {
   "cell_type": "code",
   "execution_count": 10,
   "metadata": {},
   "outputs": [
    {
     "name": "stdout",
     "output_type": "stream",
     "text": [
      "0.7881\n"
     ]
    }
   ],
   "source": [
    "print(\"{:.4f}\".format(oo_cdf_at_3))"
   ]
  },
  {
   "cell_type": "markdown",
   "metadata": {},
   "source": [
    "### Inferring the relation between lifestyle and diabtes"
   ]
  },
  {
   "cell_type": "markdown",
   "metadata": {},
   "source": [
    "#### Splitting the data into diabetics and non-diabetics"
   ]
  },
  {
   "cell_type": "code",
   "execution_count": 11,
   "metadata": {
    "collapsed": true
   },
   "outputs": [],
   "source": [
    "diabetics_mask = clean_data_of_interest.loc[:, \"Class\"] == 1\n",
    "diabetics = clean_data_of_interest[diabetics_mask]\n",
    "non_diabetics = clean_data_of_interest[~diabetics_mask]"
   ]
  },
  {
   "cell_type": "markdown",
   "metadata": {},
   "source": [
    "#### Plotting the BMI histograms and density estimation in ecah group"
   ]
  },
  {
   "cell_type": "code",
   "execution_count": 12,
   "metadata": {},
   "outputs": [
    {
     "data": {
      "text/plain": [
       "<matplotlib.axes._subplots.AxesSubplot at 0x7f71b456d7f0>"
      ]
     },
     "execution_count": 12,
     "metadata": {},
     "output_type": "execute_result"
    },
    {
     "data": {
      "image/png": "[encoded data removed]",
      "text/plain": [
       "<matplotlib.figure.Figure at 0x7f71b456d160>"
      ]
     },
     "metadata": {},
     "output_type": "display_data"
    }
   ],
   "source": [
    "diabetics.loc[:, \"BMI\"].plot.hist(color='red', normed=True)\n",
    "diabetics.loc[:, \"BMI\"].plot.density(color='black')"
   ]
  },
  {
   "cell_type": "code",
   "execution_count": 13,
   "metadata": {},
   "outputs": [
    {
     "data": {
      "text/plain": [
       "<matplotlib.axes._subplots.AxesSubplot at 0x7f71b45a8cf8>"
      ]
     },
     "execution_count": 13,
     "metadata": {},
     "output_type": "execute_result"
    },
    {
     "data": {
      "image/png": "[encoded data removed]",
      "text/plain": [
       "<matplotlib.figure.Figure at 0x7f71b456d710>"
      ]
     },
     "metadata": {},
     "output_type": "display_data"
    }
   ],
   "source": [
    "non_diabetics.loc[:, \"BMI\"].plot.hist(color='green', normed=True)\n",
    "non_diabetics.loc[:, \"BMI\"].plot.density(color='black')"
   ]
  },
  {
   "cell_type": "markdown",
   "metadata": {},
   "source": [
    "#### Implementing the Bayes rule"
   ]
  },
  {
   "cell_type": "code",
   "execution_count": 14,
   "metadata": {
    "collapsed": true
   },
   "outputs": [],
   "source": [
    "# calculating the distributions parameters\n",
    "\n",
    "# X ~ N(mean_X, (std_X)**2)\n",
    "mean_X = clean_data_of_interest.loc[:, \"BMI\"].mean()\n",
    "std_X = clean_data_of_interest.loc[:, \"BMI\"].std()\n",
    "\n",
    "# Y ~ Bernoulli(mean_Y)\n",
    "mean_Y = clean_data_of_interest.loc[:, \"Class\"].mean()\n",
    "\n",
    "# X|Y=y ~ N(y * mean_1 + (1 - y) * mean_0, y * (std_1 ** 2) + (1 - y) * (std_0 ** 2))\n",
    "mean_1 = diabetics.loc[:, \"BMI\"].mean()\n",
    "std_1 = diabetics.loc[:, \"BMI\"].std()\n",
    "mean_0 = non_diabetics.loc[:, \"BMI\"].mean()\n",
    "std_0 = non_diabetics.loc[:, \"BMI\"].mean()"
   ]
  },
  {
   "cell_type": "code",
   "execution_count": 15,
   "metadata": {},
   "outputs": [],
   "source": [
    "from scipy.stats import bernoulli\n",
    "\n",
    "def P(y, rel, x):\n",
    "    # rel is a either '>' or '<', i.e. the relation between X and the value x\n",
    "    \n",
    "    P_Y = bernoulli.pmf(y, p=mean_Y)\n",
    "    \n",
    "    mean_X_given_Y = y * mean_1 + (1 - y) * mean_0\n",
    "    std_X_given_Y = y * std_1 + (1 - y) * std_0\n",
    "    P_X_given_Y = norm.cdf(x, loc=mean_X_given_Y, scale=std_X_given_Y)\n",
    "    \n",
    "    P_X = norm.cdf(x, loc=mean_X, scale=std_X)\n",
    "    \n",
    "    if rel == '>':\n",
    "        P_X_given_Y = 1 - P_X_given_Y\n",
    "        P_X = 1 - P_X\n",
    "        \n",
    "    return P_X_given_Y * P_Y / P_X"
   ]
  },
  {
   "cell_type": "markdown",
   "metadata": {},
   "source": [
    "#### Doing inference with the Bayes rule"
   ]
  },
  {
   "cell_type": "code",
   "execution_count": 16,
   "metadata": {},
   "outputs": [
    {
     "name": "stdout",
     "output_type": "stream",
     "text": [
      "P(Y = 1 | X ≥ 30) = 0.44\n",
      "P(Y = 1 | X < 30) = 0.20\n"
     ]
    }
   ],
   "source": [
    "print(\"P(Y = 1 | X ≥ 30) = {:.2f}\".format(P(1, '>', 30)))\n",
    "print(\"P(Y = 1 | X < 30) = {:.2f}\".format(P(1, '<', 30)))"
   ]
  },
  {
   "cell_type": "markdown",
   "metadata": {},
   "source": [
    "_**Inference**: having a BMI higher than or equal 30 (indicating poor lifestyle) doubles the chances of having diabetes_"
   ]
  },
  {
   "cell_type": "code",
   "execution_count": 17,
   "metadata": {},
   "outputs": [
    {
     "name": "stdout",
     "output_type": "stream",
     "text": [
      "P(Y = 0 | X ≥ 30) = 0.52\n",
      "P(Y = 0 | X < 30) = 0.88\n"
     ]
    }
   ],
   "source": [
    "print(\"P(Y = 0 | X ≥ 30) = {:.2f}\".format(P(0, '>', 30)))\n",
    "print(\"P(Y = 0 | X < 30) = {:.2f}\".format(P(0, '<', 30)))"
   ]
  },
  {
   "cell_type": "markdown",
   "metadata": {},
   "source": [
    "_**Inference**: having a BMI higher than or equal 30 (indicating poor lifestyle) reduces the chances of being helathy by around 40%_"
   ]
  }
 ],
 "metadata": {
  "kernelspec": {
   "display_name": "Python 3",
   "language": "python",
   "name": "python3"
  },
  "language_info": {
   "codemirror_mode": {
    "name": "ipython",
    "version": 3
   },
   "file_extension": ".py",
   "mimetype": "text/x-python",
   "name": "python",
   "nbconvert_exporter": "python",
   "pygments_lexer": "ipython3",
   "version": "3.6.3"
  }
 },
 "nbformat": 4,
 "nbformat_minor": 2
}
